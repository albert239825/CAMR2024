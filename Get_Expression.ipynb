{
 "cells": [
  {
   "cell_type": "markdown",
   "id": "ae76e82b",
   "metadata": {},
   "source": [
    "# Marker Determination"
   ]
  },
  {
   "cell_type": "code",
   "execution_count": null,
   "id": "28a028ac",
   "metadata": {},
   "outputs": [],
   "source": [
    "import sklearn as sk\n",
    "import anndata as ad\n",
    "import scanpy as sc \n",
    "import matplotlib.pyplot as plt\n",
    "import pandas as pd\n",
    "import numpy as np\n",
    "import os\n",
    "import joblib\n",
    "\n",
    "sc.settings.n_jobs = -1\n",
    "\n",
    "os.chdir(\"/project/hipaa_ycheng11lab/atlas/CAMR2024/\")"
   ]
  },
  {
   "cell_type": "code",
   "execution_count": null,
   "id": "165314df",
   "metadata": {
    "editable": true,
    "slideshow": {
     "slide_type": ""
    },
    "tags": []
   },
   "outputs": [],
   "source": [
    "adata = ad.read_h5ad('data/camr_modeling_input.h5ad')\n",
    "gene_names = adata.var[\"feature_name\"].astype(str)\n",
    "if not os.path.isfile('data/CAMR_genes.csv'):\n",
    "    adata.var[\"feature_name\"].to_csv('data/CAMR_genes.csv', index=False)\n",
    "adata"
   ]
  },
  {
   "cell_type": "markdown",
   "id": "22212f02",
   "metadata": {},
   "source": [
    "## Major Class Markers"
   ]
  },
  {
   "cell_type": "code",
   "execution_count": null,
   "id": "bee8f6a9",
   "metadata": {},
   "outputs": [],
   "source": [
    "top_features_log_reg = pd.read_csv('spreadsheets/ovr_top_20_genes_by_cell_type_reproduction.csv')\n",
    "# Only positive features, negative markers are less useful\n",
    "top_features_log_reg_pos = top_features_log_reg[top_features_log_reg['Coefficient'] > 0]\n",
    "top_features_log_reg_pos.index = top_features_log_reg_pos.Gene\n",
    "top_features_log_reg_pos"
   ]
  },
  {
   "cell_type": "code",
   "execution_count": null,
   "id": "a26c8ee0",
   "metadata": {
    "jupyter": {
     "source_hidden": true
    }
   },
   "outputs": [],
   "source": [
    "# Raw average expression\n",
    "highly_variable = adata.raw.var['feature_name'].isin(gene_names.tolist())\n",
    "if not os.path.isfile('spreadsheets/raw_mean_variable_genes.csv'):\n",
    "    raw_feature_expression_pd = pd.DataFrame(adata.raw.X[:, highly_variable].toarray(), columns = gene_names.tolist())\n",
    "    raw_feature_expression_pd[\"majorclass\"] = adata.obs[\"majorclass\"].tolist()\n",
    "    raw_feature_expression_pd_mean = raw_feature_expression_pd.groupby(\"majorclass\").agg(\"mean\")\n",
    "    del raw_feature_expression_pd\n",
    "    raw_feature_expression_pd_mean.write_csv('spreadsheets/raw_mean_variable_genes.csv')\n",
    "else:\n",
    "    raw_feature_expression_pd_mean = pd.read_csv('spreadsheets/raw_mean_variable_genes.csv', index_col=0)\n",
    "raw_feature_expression_pd_mean"
   ]
  },
  {
   "cell_type": "code",
   "execution_count": null,
   "id": "4ebd63d3",
   "metadata": {},
   "outputs": [],
   "source": [
    "# Filter based on innate features of the gene itself\n",
    "in_regression = adata.var[\"feature_name\"].astype(str).isin(top_features_log_reg_pos[\"Gene\"])\n",
    "long_enough = adata.var[\"feature_length\"].astype(int) >= 960 # It's a conservative filter\n",
    "\n",
    "keep_genes = long_enough & in_regression\n",
    "kept_gene_names = gene_names[keep_genes.tolist()].tolist()\n",
    "print(len(kept_gene_names), kept_gene_names) # 216 genes"
   ]
  },
  {
   "cell_type": "code",
   "execution_count": null,
   "id": "1fd1c2d2",
   "metadata": {},
   "outputs": [],
   "source": [
    "# Filter based on the filtering criteria\n",
    "# adata.obs.library_platform.unique() shows that this is mix of 4 chemistries, so use strictest?\n",
    "\n",
    "# count_limit = 0.1 # Absolute detection limit\n",
    "count_lowcluster = 4\n",
    "count_highcluster = 100\n",
    "\n",
    "detectable_genes = (raw_feature_expression_pd_mean >= count_lowcluster).sum(axis=0) >= 1\n",
    "optical_crowding_genes = (raw_feature_expression_pd_mean > count_highcluster).sum(axis=0) > 0\n",
    "\n",
    "is_expression_candidate = detectable_genes & (~optical_crowding_genes)\n",
    "\n",
    "expression_candidates = gene_names[is_expression_candidate.tolist()].tolist()\n",
    "print(len(expression_candidates), expression_candidates) # 428 genes"
   ]
  },
  {
   "cell_type": "code",
   "execution_count": null,
   "id": "855b8abb",
   "metadata": {},
   "outputs": [],
   "source": [
    "# Combine gene metadata filtering and gene expression filtering together\n",
    "final_candidates = np.intersect1d(expression_candidates, kept_gene_names)\n",
    "print(len(final_candidates), final_candidates) # 172 genes"
   ]
  },
  {
   "cell_type": "code",
   "execution_count": null,
   "id": "b312e59b",
   "metadata": {},
   "outputs": [],
   "source": [
    "# Save all genes that passed these thresholds\n",
    "# Sensitive to refer to the fact that we are not filtering on specificity, not checking off-targets\n",
    "ordered_features = top_features_log_reg_pos.loc[final_candidates.tolist()].sort_values('Cell Type')\n",
    "ordered_features.to_csv('spreadsheets/ovr_top_filtered_genes_majorclass_coefficients_sensitive.csv')\n",
    "ordered_features"
   ]
  },
  {
   "cell_type": "code",
   "execution_count": null,
   "id": "9967c1d3",
   "metadata": {},
   "outputs": [],
   "source": [
    "sc.pl.dotplot(adata,\n",
    "              var_names = ordered_features.index,\n",
    "              gene_symbols=\"feature_name\",\n",
    "              groupby = 'majorclass',\n",
    "              categories_order = adata.obs[\"majorclass\"].cat.categories.sort_values(),\n",
    "              vmax = count_lowcluster,\n",
    "              vmin = count_lowcluster / 2,\n",
    "              save = f\"mouseRetina_filteredCounts.\" +\n",
    "                     f\"{count_lowcluster}-{count_highcluster}_\" +\n",
    "                     f\"sensitive.pdf\")"
   ]
  },
  {
   "cell_type": "code",
   "execution_count": null,
   "id": "139419e9",
   "metadata": {},
   "outputs": [],
   "source": [
    "# Average normalized expression for nice dotplots\n",
    "if not os.path.isfile('spreadsheets/norm_mean_variable_genes.csv'):\n",
    "    feature_expression_pd = pd.DataFrame(adata.X.toarray(), columns = gene_names.tolist()) # Only variable genes in \n",
    "    feature_expression_pd[\"majorclass\"] = adata.obs[\"majorclass\"].tolist()\n",
    "    feature_expression_pd_mean = feature_expression_pd.groupby(\"majorclass\").agg(\"mean\")\n",
    "    del feature_expression_pd\n",
    "    feature_expression_pd_mean.to_csv('spreadsheets/norm_mean_variable_genes.csv')\n",
    "else:\n",
    "    feature_expression_pd_mean = pd.read_csv('spreadsheets/norm_mean_variable_genes.csv', index_col=0)\n",
    "raw_feature_expression_pd_mean[ordered_features.index.unique().tolist()].to_csv('spreadsheets/ovr_top_filtered_genes_majorclass_rawMeanExpression_sensitive.csv')\n",
    "feature_expression_pd_mean[ordered_features.index.unique().tolist()].to_csv('spreadsheets/ovr_top_filtered_genes_majorclass_normMeanExpression_sensitive.csv')\n"
   ]
  },
  {
   "cell_type": "code",
   "execution_count": null,
   "id": "2ca69553",
   "metadata": {},
   "outputs": [],
   "source": [
    "# Cleanup\n",
    "del top_features_log_reg, top_features_log_reg_pos, raw_feature_expression_pd_mean, in_regression, long_enough, keep_genes, kept_gene_names, detectable_genes, optical_crowding_genes, is_expression_candidate, expression_candidates, final_candidates, ordered_features, feature_expression_pd_mean "
   ]
  },
  {
   "cell_type": "markdown",
   "id": "436594d4",
   "metadata": {},
   "source": [
    "## Subtype Markers"
   ]
  },
  {
   "cell_type": "code",
   "execution_count": null,
   "id": "4c9fa124",
   "metadata": {
    "jupyter": {
     "source_hidden": true
    }
   },
   "outputs": [],
   "source": [
    "top_features_log_reg_sub = pd.read_csv('spreadsheets/ovr_top_20_genes_by_sub_cell_type_reproduction.csv')\n",
    "top_features_log_reg_pos_sub = top_features_log_reg_sub[top_features_log_reg_sub['Coefficient'] > 0]\n",
    "top_features_log_reg_pos_sub.index = top_features_log_reg_pos_sub.Gene\n",
    "top_features_log_reg_pos_sub"
   ]
  },
  {
   "cell_type": "code",
   "execution_count": null,
   "id": "8fe28180",
   "metadata": {
    "jupyter": {
     "source_hidden": true
    }
   },
   "outputs": [],
   "source": [
    "# Raw average expression\n",
    "if not os.path.isfile('spreadsheets/raw_subtype_mean_variable_genes.csv'):\n",
    "    raw_feature_expression_sub = pd.DataFrame(adata.raw.X[:, highly_variable].toarray(), columns = gene_names.tolist())\n",
    "    raw_feature_expression_sub[\"author_cell_type\"] = adata.obs[\"author_cell_type\"].tolist()\n",
    "    raw_feature_expression_sub_mean = raw_feature_expression_sub.groupby(\"author_cell_type\").agg(\"mean\")\n",
    "    del raw_feature_expression_sub\n",
    "    raw_feature_expression_sub_mean.write_csv('spreadsheets/raw_subtype_mean_variable_genes.csv')\n",
    "else:\n",
    "    raw_feature_expression_sub_mean = pd.read_csv('spreadsheets/raw_subtype_mean_variable_genes.csv', index_col=0)\n",
    "raw_feature_expression_sub_mean"
   ]
  },
  {
   "cell_type": "code",
   "execution_count": null,
   "id": "75a08109",
   "metadata": {
    "jupyter": {
     "source_hidden": true
    }
   },
   "outputs": [],
   "source": [
    "# Filter based on innate features of the gene itself\n",
    "in_regression = adata.var[\"feature_name\"].astype(str).isin(top_features_log_reg_pos_sub[\"Gene\"])\n",
    "long_enough = adata.var[\"feature_length\"].astype(int) >= 960 # It's a conservative filter\n",
    "\n",
    "keep_genes = long_enough & in_regression\n",
    "kept_gene_names = gene_names[keep_genes.tolist()].tolist()\n",
    "print(len(kept_gene_names), kept_gene_names) # 680 genes"
   ]
  },
  {
   "cell_type": "code",
   "execution_count": null,
   "id": "ce60684e",
   "metadata": {
    "jupyter": {
     "source_hidden": true
    }
   },
   "outputs": [],
   "source": [
    "# Filter based on the filtering criteria\n",
    "# adata.obs.library_platform.unique() # mix of 4 chemistries...\n",
    "\n",
    "# count_limit = 0.1 # Absolute detection limit\n",
    "count_lowcluster = 4\n",
    "count_highcluster = 100\n",
    "\n",
    "detectable_genes = (raw_feature_expression_sub_mean >= count_lowcluster).sum(axis=0) >= 1\n",
    "optical_crowding_genes = (raw_feature_expression_sub_mean > count_highcluster).sum(axis=0) > 0\n",
    "\n",
    "is_expression_candidate = detectable_genes & (~optical_crowding_genes)\n",
    "\n",
    "expression_candidates = gene_names[is_expression_candidate.tolist()].tolist()\n",
    "print(len(expression_candidates), expression_candidates) # 669 genes"
   ]
  },
  {
   "cell_type": "code",
   "execution_count": null,
   "id": "a660941e",
   "metadata": {
    "jupyter": {
     "source_hidden": true
    }
   },
   "outputs": [],
   "source": [
    "final_candidates = np.intersect1d(expression_candidates, kept_gene_names)\n",
    "print(len(final_candidates), final_candidates) # 479 genes"
   ]
  },
  {
   "cell_type": "code",
   "execution_count": null,
   "id": "9c15bdbb",
   "metadata": {},
   "outputs": [],
   "source": [
    "ordered_features_sub = top_features_log_reg_pos_sub.loc[final_candidates.tolist()].sort_values('Cell Type')\n",
    "ordered_features_sub.to_csv('spreadsheets/ovr_top_filtered_genes_author_cell_type_coefficients_sensitive.csv')\n",
    "ordered_features_sub"
   ]
  },
  {
   "cell_type": "code",
   "execution_count": null,
   "id": "7931d7d1-7ba3-4999-9eaf-d14e261a6b96",
   "metadata": {},
   "outputs": [],
   "source": [
    "# Memory cleanup for next section\n",
    "\n",
    "del top_features_log_reg_sub, raw_feature_expression_sub_mean, in_regression, long_enough, keep_genes, kept_gene_names, detectable_genes, optical_crowding_genes, is_expression_candidate, expression_candidates, final_candidates\n",
    "\n",
    "adata.raw = None\n",
    "adata.obs = adata.obs.loc[:, [\"author_cell_type\"]]\n",
    "adata.var = adata.var.loc[:, [\"gene_symbols\", \"feature_name\"]]\n",
    "\n",
    "import gc\n",
    "import ctypes\n",
    "gc.collect() # Free memory\n",
    "libc = ctypes.CDLL(\"libc.so.6\") # clearing cache \n",
    "libc.malloc_trim(0)"
   ]
  },
  {
   "cell_type": "code",
   "execution_count": null,
   "id": "ed949be5",
   "metadata": {},
   "outputs": [],
   "source": [
    "# Asking for lots of memory\n",
    "\n",
    "sc.pl.dotplot(adata,\n",
    "              ordered_features_sub.index.unique(),\n",
    "              gene_symbols=\"feature_name\",\n",
    "              groupby = 'author_cell_type',\n",
    "              vmax = count_lowcluster,\n",
    "              vmin = count_lowcluster / 2,\n",
    "              figsize = (40, 2),\n",
    "              save = f\"mouseRetina_author_cell_type_filteredCounts.\" +\n",
    "                     f\"{count_lowcluster}-{count_highcluster}_\" +\n",
    "                     f\"sensitive.png\")"
   ]
  },
  {
   "cell_type": "code",
   "execution_count": null,
   "id": "203db907-7b78-451b-9790-e87d9db1ef8d",
   "metadata": {},
   "outputs": [],
   "source": [
    "# Average expression\n",
    "if not os.path.isfile('spreadsheets/norm_subtype_mean_variable_genes.csv'):\n",
    "    feature_expression_sub = pd.DataFrame(adata.X.toarray(), columns = gene_names.tolist())\n",
    "    feature_expression_sub[\"author_cell_type\"] = adata.obs[\"author_cell_type\"].tolist()\n",
    "    feature_expression_sub_mean = feature_expression_sub.groupby(\"author_cell_type\").agg(\"mean\")\n",
    "    del feature_expression_sub\n",
    "    feature_expression_sub_mean.to_csv('spreadsheets/norm_subtype_mean_variable_genes.csv')\n",
    "else:\n",
    "    feature_expression_sub_mean = pd.read_csv('spreadsheets/norm_subtype_mean_variable_genes.csv', index_col=0)\n",
    "raw_feature_expression_sub_mean = pd.read_csv('spreadsheets/raw_subtype_mean_variable_genes.csv', index_col=0)\n",
    "\n",
    "raw_feature_expression_sub_mean[ordered_features_sub.index.unique().tolist()].to_csv('spreadsheets/ovr_top_filtered_genes_author_cell_type_rawMeanExpression_sensitive.csv')\n",
    "feature_expression_sub_mean[ordered_features_sub.index.unique().tolist()].to_csv('spreadsheets/ovr_top_filtered_genes_author_cell_type_normMeanExpression_sensitive.csv')"
   ]
  },
  {
   "cell_type": "code",
   "execution_count": null,
   "id": "87b7db16-1f72-49e0-91f9-7c97003a5ea8",
   "metadata": {
    "jupyter": {
     "source_hidden": true
    }
   },
   "outputs": [],
   "source": [
    "# Cleanup\n",
    "del adata, raw_feature_expression_sub_mean, feature_expression_sub_mean\n",
    "adata = ad.read_h5ad('data/camr_modeling_input.h5ad')"
   ]
  },
  {
   "cell_type": "code",
   "execution_count": null,
   "id": "af575dc3",
   "metadata": {
    "jupyter": {
     "source_hidden": true
    }
   },
   "outputs": [],
   "source": [
    "# Will be informative as to how accurate some calculations are...\n",
    "# Needs to be run as an interactive job :(\n",
    "if not os.path.isfile('spreadsheets/raw_subtype_sum_variable_genes.csv'):\n",
    "    raw_feature_expression_sub = pd.DataFrame(adata.raw.X[:, highly_variable].toarray(), columns = gene_names.tolist())\n",
    "    raw_feature_expression_sub[\"author_cell_type\"] = adata.obs[\"author_cell_type\"].tolist()\n",
    "    raw_feature_expression_sub_sum = raw_feature_expression_sub.groupby(\"author_cell_type\").agg(\"sum\")\n",
    "    del raw_feature_expression_sub\n",
    "    raw_feature_expression_sub_sum.write_csv('spreadsheets/raw_subtype_sum_variable_genes.csv')\n",
    "else:\n",
    "    raw_feature_expression_sub_sum = pd.read_csv('spreadsheets/raw_subtype_sum_variable_genes.csv', index_col=0)\n",
    "feature_expression_pd_sub_sum[ordered_features_sub.index.unique().tolist()].to_csv('spreadsheets/ovr_top_filtered_genes_author_cell_type_rawSumExpression_sensitive.csv')"
   ]
  },
  {
   "cell_type": "markdown",
   "id": "b656b750",
   "metadata": {},
   "source": [
    "### Subtype Marker Better Plots\n",
    "\n",
    "Requirements:\n",
    "\n",
    "* adata\n",
    "* final_candidates_ordered\n",
    "* final_candidates_ordered_sub\n",
    "* count_lowcluster\n",
    "* count_highcluster"
   ]
  },
  {
   "cell_type": "code",
   "execution_count": null,
   "id": "5fbc5b96-eee3-4d3f-9f57-ff622a59f1b8",
   "metadata": {},
   "outputs": [],
   "source": [
    "# Run this if starting from scratch!\n",
    "\n",
    "import sklearn as sk\n",
    "import anndata as ad\n",
    "import scanpy as sc \n",
    "import matplotlib.pyplot as plt\n",
    "import pandas as pd\n",
    "import numpy as np\n",
    "import os\n",
    "import joblib\n",
    "\n",
    "sc.settings.n_jobs = -1\n",
    "\n",
    "count_lowcluster = 4\n",
    "count_highcluster = 100\n",
    "\n",
    "adata = ad.read_h5ad('data/camr_modeling_input.h5ad')\n",
    "adata.var.index = adata.var[\"feature_name\"] # subset on genes instead of booleans\n",
    "\n",
    "final_candidates_ordered = pd.read_csv('spreadsheets/ovr_top_filtered_genes_majorclass_coefficients_sensitive.csv', index_col = 0)\n",
    "final_candidates_ordered_sub = pd.read_csv('spreadsheets/ovr_top_filtered_genes_author_cell_type_coefficients_sensitive.csv', index_col = 0)"
   ]
  },
  {
   "cell_type": "code",
   "execution_count": null,
   "id": "e00e53af",
   "metadata": {},
   "outputs": [],
   "source": [
    "majorclass = final_candidates_ordered[\"Cell Type\"].unique()\n",
    "minorclass = final_candidates_ordered_sub[\"Cell Type\"].unique() # Not necessary\n",
    "print(majorclass, minorclass)"
   ]
  },
  {
   "cell_type": "code",
   "execution_count": null,
   "id": "de539ca9",
   "metadata": {
    "scrolled": true
   },
   "outputs": [],
   "source": [
    "subtype_to_type = adata.obs[[\"author_cell_type\", \"majorclass\"]].groupby(\"author_cell_type\").head(1)\n",
    "subtype_to_type.groupby(\"majorclass\").agg(\"count\").to_csv('spreadsheets/number_of_subtypes.csv')\n",
    "subtype_to_type"
   ]
  },
  {
   "cell_type": "code",
   "execution_count": null,
   "id": "c2fffd23-871a-4592-9859-f843491495f6",
   "metadata": {},
   "outputs": [],
   "source": [
    "# Remove some memory hogs\n",
    "# del adata\n",
    "# adata = ad.read_h5ad('data/camr_modeling_input.h5ad')\n",
    "\n",
    "adata.raw = None\n",
    "adata.obs = adata.obs.loc[:, [\"majorclass\", \"author_cell_type\"]]\n",
    "adata.var = adata.var.loc[:, [\"gene_symbols\", \"feature_name\"]]\n",
    "\n",
    "adata.var.index = adata.var[\"feature_name\"] # subset on genes instead of booleans\n",
    "adata.var_names_make_unique()\n",
    "\n",
    "import gc\n",
    "import ctypes\n",
    "gc.collect() # Free memory\n",
    "libc = ctypes.CDLL(\"libc.so.6\") # clearing cache \n",
    "libc.malloc_trim(0)"
   ]
  },
  {
   "cell_type": "code",
   "execution_count": null,
   "id": "810cb95f",
   "metadata": {},
   "outputs": [],
   "source": [
    "for cell in majorclass:\n",
    "\n",
    "    cell_markers = final_candidates_ordered[final_candidates_ordered == cell].index\n",
    "    subtypes = subtype_to_type.loc[subtype_to_type.majorclass == cell, \"author_cell_type\"].tolist()\n",
    "    subtype_markers = final_candidates_ordered_sub[final_candidates_ordered_sub.isin(subtypes)].index\n",
    "\n",
    "    markers = cell_markers.tolist() + subtype_markers.tolist()\n",
    "\n",
    "    # sc.pl.dotplot throws a fit if there are duplicates\n",
    "    unique_markers = []\n",
    "    for m in markers:\n",
    "        if m not in unique_markers:\n",
    "            unique_markers += [m]\n",
    "\n",
    "    sc.pl.dotplot(adata[adata.obs.majorclass == cell, unique_markers],\n",
    "                  unique_markers,\n",
    "                  gene_symbols=\"feature_name\",\n",
    "                  groupby = 'author_cell_type',\n",
    "                  vmax = count_lowcluster * 3,\n",
    "                  vmin = count_lowcluster - 1,\n",
    "                  show = False,\n",
    "                  save = f\"mouseRetina_{cell}.author_cell_type_filteredCounts.\" +\n",
    "                         f\"{count_lowcluster}-{count_highcluster}.pdf\")"
   ]
  },
  {
   "cell_type": "markdown",
   "id": "6d4236a0-705a-4608-85b8-c1cb2cfd330a",
   "metadata": {},
   "source": [
    "# Scratch"
   ]
  },
  {
   "cell_type": "code",
   "execution_count": null,
   "id": "f5d77db6",
   "metadata": {},
   "outputs": [],
   "source": [
    "sum([g == gene_names.tolist()[i] for i, g in enumerate(adata.raw.var['feature_name'][adata.raw.var['feature_name'].isin(adata.var['feature_name'])])])"
   ]
  },
  {
   "cell_type": "code",
   "execution_count": null,
   "id": "77c381ed",
   "metadata": {},
   "outputs": [],
   "source": [
    "[cat for cat in adata.obs.author_cell_type.cat.categories.tolist()\n",
    "     if cat not in adata.obs.subclass_label.cat.categories.tolist()]"
   ]
  },
  {
   "cell_type": "code",
   "execution_count": null,
   "id": "ebaaeabb",
   "metadata": {},
   "outputs": [],
   "source": [
    "adata.obs.columns"
   ]
  },
  {
   "cell_type": "code",
   "execution_count": null,
   "id": "e2ccb65c",
   "metadata": {},
   "outputs": [],
   "source": [
    "adata.obs.author_cell_type.value_counts() # TODO: Add this as a metadata column"
   ]
  }
 ],
 "metadata": {
  "kernelspec": {
   "display_name": "Python 3.11.5",
   "language": "python",
   "name": "py3.11"
  },
  "language_info": {
   "codemirror_mode": {
    "name": "ipython",
    "version": 3
   },
   "file_extension": ".py",
   "mimetype": "text/x-python",
   "name": "python",
   "nbconvert_exporter": "python",
   "pygments_lexer": "ipython3",
   "version": "3.11.7"
  }
 },
 "nbformat": 4,
 "nbformat_minor": 5
}
