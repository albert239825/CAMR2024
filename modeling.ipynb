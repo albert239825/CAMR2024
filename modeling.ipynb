{
 "cells": [
  {
   "cell_type": "markdown",
   "metadata": {},
   "source": [
    "## Modeling\n",
    "\n",
    "In this notebook, we're going to apply various machine learning approaches analyze the mouse retinal data"
   ]
  },
  {
   "cell_type": "code",
   "execution_count": 24,
   "metadata": {},
   "outputs": [],
   "source": [
    "import sklearn as sk\n",
    "import anndata as ad\n",
    "import scanpy as sc \n",
    "import matplotlib.pyplot as plt\n",
    "import pandas as pd"
   ]
  },
  {
   "cell_type": "code",
   "execution_count": 6,
   "metadata": {},
   "outputs": [],
   "source": [
    "adata = ad.read_h5ad('camr_scrublet_batch_filtered.h5ad')"
   ]
  },
  {
   "cell_type": "code",
   "execution_count": 31,
   "metadata": {},
   "outputs": [
    {
     "name": "stdout",
     "output_type": "stream",
     "text": [
      "WARNING: It seems you use rank_genes_groups on the raw count data. Please logarithmize your data before calling rank_genes_groups.\n"
     ]
    }
   ],
   "source": [
    "# Calculating Cluster Specific Differentially Expressed Genes\n",
    "sc.tl.rank_genes_groups(adata, groupby=\"leiden_res_0.50\", method=\"wilcoxon\")\n",
    "\n",
    "sc.pl.rank_genes_groups_dotplot(\n",
    "    adata, groupby=\"leiden_res_0.50\", standard_scale=\"var\", n_genes=5\n",
    ")"
   ]
  },
  {
   "cell_type": "code",
   "execution_count": null,
   "metadata": {},
   "outputs": [
    {
     "name": "stdout",
     "output_type": "stream",
     "text": [
      "Raw Counts:\n",
      "  (2, 2)\t0.5734496116638184\n",
      "  (3, 2)\t0.6386954188346863\n",
      "  (4, 2)\t0.34429892897605896\n",
      "  (4, 4)\t0.34429892897605896\n"
     ]
    }
   ],
   "source": [
    "# Normalization Sanity Check\n",
    "print(\"Raw Counts:\")\n",
    "print(adata.layers[\"raw\"][:5, :5])\n",
    "\n"
   ]
  },
  {
   "cell_type": "code",
   "execution_count": null,
   "metadata": {},
   "outputs": [
    {
     "name": "stdout",
     "output_type": "stream",
     "text": [
      "Normalized Data:\n",
      "  (2, 2)\t0.41708502173423767\n",
      "  (3, 2)\t0.4458776116371155\n",
      "  (4, 2)\t0.26107800006866455\n",
      "  (4, 4)\t0.26107800006866455\n"
     ]
    }
   ],
   "source": [
    "# Print the first few rows and columns of the normalized data\n",
    "print(\"Normalized Data:\")\n",
    "print(adata.X[:5, :5])"
   ]
  },
  {
   "cell_type": "markdown",
   "metadata": {},
   "source": [
    "## Normalization Sanity Check"
   ]
  },
  {
   "cell_type": "code",
   "execution_count": null,
   "metadata": {},
   "outputs": [
    {
     "data": {
      "image/png": "[encoded data removed]",
      "text/plain": [
       "<Figure size 1200x600 with 2 Axes>"
      ]
     },
     "metadata": {},
     "output_type": "display_data"
    }
   ],
   "source": [
    "import matplotlib.pyplot as plt\n",
    "\n",
    "# Convert to dense arrays and flatten\n",
    "raw_counts = adata.layers[\"raw\"].toarray().flatten()\n",
    "normalized_counts = adata.X.toarray().flatten()\n",
    "\n",
    "# Plot histograms\n",
    "plt.figure(figsize=(12, 6))\n",
    "\n",
    "plt.subplot(1, 2, 1)\n",
    "plt.hist(raw_counts, bins=100, color='blue', alpha=0.7)\n",
    "plt.title('Raw Counts Distribution')\n",
    "plt.xlabel('Counts')\n",
    "plt.ylabel('Frequency')\n",
    "\n",
    "plt.subplot(1, 2, 2)\n",
    "plt.hist(normalized_counts, bins=100, color='green', alpha=0.7)\n",
    "plt.title('Normalized and Log-transformed Counts Distribution')\n",
    "plt.xlabel('Counts')\n",
    "plt.ylabel('Frequency')\n",
    "\n",
    "plt.tight_layout()\n",
    "plt.show()\n"
   ]
  },
  {
   "cell_type": "code",
   "execution_count": null,
   "metadata": {},
   "outputs": [
    {
     "name": "stdout",
     "output_type": "stream",
     "text": [
      "Raw Counts Summary Statistics:\n",
      "Min: 0.0, Max: 7.755390644073486, Mean: 0.18239399790763855, Std: 0.5289703011512756\n",
      "Normalized and Log-transformed Counts Summary Statistics:\n",
      "Min: 0.0, Max: 3.404916524887085, Mean: 0.11371065676212311, Std: 0.30618733167648315\n"
     ]
    }
   ],
   "source": [
    "import numpy as np\n",
    "\n",
    "# Summary statistics for raw counts\n",
    "print(\"Raw Counts Summary Statistics:\")\n",
    "print(f\"Min: {np.min(raw_counts)}, Max: {np.max(raw_counts)}, Mean: {np.mean(raw_counts)}, Std: {np.std(raw_counts)}\")\n",
    "\n",
    "# Summary statistics for normalized and log-transformed counts\n",
    "print(\"Normalized and Log-transformed Counts Summary Statistics:\")\n",
    "print(f\"Min: {np.min(normalized_counts)}, Max: {np.max(normalized_counts)}, Mean: {np.mean(normalized_counts)}, Std: {np.std(normalized_counts)}\")\n"
   ]
  },
  {
   "cell_type": "markdown",
   "metadata": {},
   "source": [
    "## Quality of Life"
   ]
  },
  {
   "cell_type": "code",
   "execution_count": null,
   "metadata": {},
   "outputs": [],
   "source": [
    "# # Save the entire session\n",
    "# filename = 'notebook_state.pkl'\n",
    "# with open(filename, 'wb') as f:\n",
    "#     dill.dump_session(f)"
   ]
  },
  {
   "cell_type": "code",
   "execution_count": null,
   "metadata": {},
   "outputs": [],
   "source": [
    "# import dill\n",
    "\n",
    "# # Load the saved session\n",
    "# filename = 'notebook_state.pkl'\n",
    "# with open(filename, 'rb') as f:\n",
    "#     dill.load_session(f)"
   ]
  },
  {
   "cell_type": "code",
   "execution_count": null,
   "metadata": {},
   "outputs": [],
   "source": []
  }
 ],
 "metadata": {
  "kernelspec": {
   "display_name": "py311env",
   "language": "python",
   "name": "python3"
  },
  "language_info": {
   "codemirror_mode": {
    "name": "ipython",
    "version": 3
   },
   "file_extension": ".py",
   "mimetype": "text/x-python",
   "name": "python",
   "nbconvert_exporter": "python",
   "pygments_lexer": "ipython3",
   "version": "3.11.7"
  }
 },
 "nbformat": 4,
 "nbformat_minor": 2
}
