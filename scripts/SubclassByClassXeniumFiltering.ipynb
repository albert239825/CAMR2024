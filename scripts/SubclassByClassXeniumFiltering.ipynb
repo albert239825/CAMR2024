{
 "cells": [
  {
   "cell_type": "markdown",
   "id": "ae76e82b",
   "metadata": {},
   "source": [
    "# Marker Determination"
   ]
  },
  {
   "cell_type": "code",
   "execution_count": null,
   "id": "28a028ac",
   "metadata": {},
   "outputs": [],
   "source": [
    "import sklearn as sk\n",
    "import anndata as ad\n",
    "import scanpy as sc \n",
    "import matplotlib.pyplot as plt\n",
    "import pandas as pd\n",
    "import numpy as np\n",
    "import os\n",
    "import joblib\n",
    "\n",
    "sc.settings.n_jobs = -1\n",
    "\n",
    "os.chdir(\"/project/hipaa_ycheng11lab/atlas/CAMR2024/\")\n",
    "\n",
    "is_verbose = True"
   ]
  },
  {
   "cell_type": "code",
   "execution_count": null,
   "id": "165314df",
   "metadata": {
    "editable": true,
    "slideshow": {
     "slide_type": ""
    },
    "tags": []
   },
   "outputs": [],
   "source": [
    "count_lowcluster = 4 # Recommended detection limit for cell markers \n",
    "count_highcluster = 100 # Recommended detection ceiling\n",
    "\n",
    "majorclass_candidates = pd.read_csv('spreadsheets/ovr_top_filtered_genes_majorclass_coefficients_sensitive.csv', index_col = 0)\n",
    "subtype_to_type = pd.read_csv('spreadsheets/major_author.csv', index_col = 0)\n",
    "\n",
    "adata_full = ad.read_h5ad('data/camr_scrublet_batch_filtered.h5ad')\n",
    "adata_full.var.index = adata_full.var[\"feature_name\"] # subset on genes instead of booleans for dotplots\n",
    "adata_full"
   ]
  },
  {
   "cell_type": "markdown",
   "id": "436594d4",
   "metadata": {},
   "source": [
    "## Subtype Markers"
   ]
  },
  {
   "cell_type": "code",
   "execution_count": null,
   "id": "4c9fa124",
   "metadata": {
    "jupyter": {
     "source_hidden": true
    }
   },
   "outputs": [],
   "source": [
    "def get_top_coefficient_genes(gene_filter: str, majorclass: str):\n",
    "    top_coefficient_path = f'spreadsheets/ovr_top_20_{gene_filter}_genes_{majorclass}_author_cell_type.csv'\n",
    "    top_features_log_reg_sub = pd.read_csv(top_coefficient_path)\n",
    "    top_features_log_reg_pos_sub = top_features_log_reg_sub[top_features_log_reg_sub['Coefficient'] > 0]\n",
    "    top_features_log_reg_pos_sub.index = top_features_log_reg_pos_sub.Gene\n",
    "\n",
    "    return top_features_log_reg_pos_sub"
   ]
  },
  {
   "cell_type": "code",
   "execution_count": null,
   "id": "8fe28180",
   "metadata": {},
   "outputs": [],
   "source": [
    "def get_raw_expression(adata, majorclass: str):\n",
    "    if not os.path.isfile(f'data/raw_subtype_meanExpression.csv'):\n",
    "        raw_feature_expression_sub = pd.DataFrame(adata.raw.X.toarray(), columns = adata.var[\"feature_name\"].astype(str).tolist())\n",
    "        raw_feature_expression_sub\n",
    "        raw_feature_expression_sub[\"author_cell_type\"] = adata.obs[\"author_cell_type\"].tolist()\n",
    "        raw_feature_expression_sub_mean = raw_feature_expression_sub.groupby(\"author_cell_type\").agg(\"mean\")\n",
    "        raw_feature_expression_sub_sum = raw_feature_expression_sub.groupby(\"author_cell_type\").agg(\"sum\")\n",
    "        del raw_feature_expression_sub\n",
    "        raw_feature_expression_sub_mean.write_csv(f'spreadsheets/raw_{majorclass}_subtype_meanExpression.csv')\n",
    "        raw_feature_expression_sub_sum.write_csv(f'spreadsheets/raw_{majorclass}_subtype_sumExpression.csv')\n",
    "    else:\n",
    "        raw_feature_expression_sub_mean = pd.read_csv(f'spreadsheets/raw_{majorclass}_subtype_meanExpression.csv', index_col=0)\n",
    "        raw_feature_expression_sub_sum = pd.read_csv(f'spreadsheets/raw_{majorclass}_subtype_sumExpression.csv', index_col=0)\n",
    "\n",
    "    return (raw_feature_expression_sub_mean, raw_feature_expression_sub_sum)"
   ]
  },
  {
   "cell_type": "code",
   "execution_count": null,
   "id": "75a08109",
   "metadata": {
    "jupyter": {
     "source_hidden": true
    }
   },
   "outputs": [],
   "source": [
    "# Filter based on innate features of the gene itself\n",
    "def filter_gene_by_genomics(adata, top_coefficient_genes, length_threshold = 960, verbose = False)\n",
    "    in_regression = adata.var[\"feature_name\"].astype(str).isin(top_coefficient_genes[\"Gene\"])\n",
    "    long_enough = adata.var[\"feature_length\"].astype(int) >= length_threshold # It's a conservative filter\n",
    "    \n",
    "    is_genomics_candidate = long_enough & in_regression\n",
    "    genomics_candidates = adata.var[\"feature_name\"].astype(str)[is_genomics_candidate.tolist()].tolist()\n",
    "\n",
    "    if verbose:\n",
    "        print(len(genomics_candidates), genomics_candidates)\n",
    "\n",
    "    return genomics_candidates"
   ]
  },
  {
   "cell_type": "code",
   "execution_count": null,
   "id": "ce60684e",
   "metadata": {
    "jupyter": {
     "source_hidden": true
    }
   },
   "outputs": [],
   "source": [
    "# Filter based on the filtering criteria even though adata.obs.library_platform.unique() is a mix of 4 chemistries...\n",
    "def filter_gene_by_expression(adata, raw_mean_expression, count_lowcluster = 4, count_highcluster = 100, verbose = False)\n",
    "    detectable_genes = (raw_mean_expression >= count_lowcluster).sum(axis=0) >= 1\n",
    "    optical_crowding_genes = (raw_mean_expression > count_highcluster).sum(axis=0) > 0\n",
    "    \n",
    "    is_expression_candidate = detectable_genes & (~optical_crowding_genes)\n",
    "    expression_candidates = adata.var[\"feature_name\"].astype(str)[is_expression_candidate.tolist()].tolist()\n",
    "    \n",
    "    if verbose:\n",
    "        print(len(expression_candidates), expression_candidates)\n",
    "    \n",
    "    return expression_candidates"
   ]
  },
  {
   "cell_type": "code",
   "execution_count": null,
   "id": "810cb95f",
   "metadata": {
    "jupyter": {
     "source_hidden": true
    }
   },
   "outputs": [],
   "source": [
    "def merge_major_minor_markers(majorclass_candidates, minorclass_candidates, subtype_to_type):\n",
    "    cell_markers = majorclass_candidates[majorclass_candidates == majorclass].index\n",
    "    subtypes = subtype_to_type.loc[subtype_to_type.majorclass == majorclass, \"author_cell_type\"].tolist()\n",
    "    subtype_markers = minorclass_candidates[minorclass_candidates.isin(subtypes)].index\n",
    "    \n",
    "    markers = cell_markers.tolist() + subtype_markers.tolist()\n",
    "    \n",
    "    # sc.pl.dotplot throws a fit if there are duplicates\n",
    "    unique_markers = []\n",
    "    for m in markers:\n",
    "        if m not in unique_markers:\n",
    "            unique_markers += [m]\n",
    "    \n",
    "    return unique_markers"
   ]
  },
  {
   "cell_type": "code",
   "execution_count": null,
   "id": "59569f48-c4db-494d-8b8a-aeaf0ea9da77",
   "metadata": {},
   "outputs": [],
   "source": [
    "for gene_filter in ['highly_variable', 'moderately_variable', 'complete']:\n",
    "\n",
    "    print(f'{datetime.datetime.now()} Filter Strategy: {gene_filter}')\n",
    "\n",
    "    if gene_filter == 'highly_variable':\n",
    "        adata = adata_full[:, adata_full.var.highly_variable]\n",
    "    if gene_filter == 'moderately_variable':\n",
    "        adata = adata_full[:, adata_full.var['dispersions'] > min(adata_full.var.loc[adata_full.var['highly_variable'], 'dispersions'])]\n",
    "    if gene_filter == 'complete':\n",
    "        adata = adata_full\n",
    "        \n",
    "    for majorclass in [\"AC\", \"BC\", \"Microglia\", \"RGC\"]: # adata.obs['majorclass'].cat.categories, but only ones with subtypes to check\n",
    "    \n",
    "        print(f'{datetime.datetime.now()} Major Class: {majorclass}')\n",
    "\n",
    "        top_coefficient_genes = get_top_coefficient_genes(gene_filter, majorclass)\n",
    "        raw_mean_expression, raw_sum_expression = get_raw_expression(adata, majorclass)\n",
    "\n",
    "        genomics_candidates = filter_gene_by_genomics(adata, top_coefficient_genes, verbose = is_verbose)\n",
    "        expression_candidates = filter_gene_by_expression(adata, raw_mean_expression, verbose = is_verbose)\n",
    "        final_candidates = np.intersect1d(genomics_candidates, expression_candidates)\n",
    "\n",
    "        if is_verbose:\n",
    "            print(len(final_candidates), final_candidates)\n",
    "\n",
    "        ordered_markers = top_coefficient_genes.loc[final_candidates.tolist()].sort_values('Cell Type')\n",
    "        ordered_markers.to_csv(f'spreadsheets/ovr_top_{gene_filter}_filtered_markers_{majorclass}_coefficients_sensitive.csv')\n",
    "\n",
    "        major_minor_markers = merge_major_minor_markers(majorclass_candidates, ordered_markers, subtype_to_type)\n",
    "\n",
    "        sc.pl.dotplot(\n",
    "            adata[adata.obs.majorclass == majorclass, major_minor_markers],\n",
    "            major_minor_markers,\n",
    "            gene_symbols = \"feature_name\",\n",
    "            groupby = 'author_cell_type',\n",
    "            vmax = count_lowcluster * 3,\n",
    "            vmin = count_lowcluster - 1,\n",
    "            show = False,\n",
    "            save = f\"mouseRetina_{gene_filter}_{majorclass}_byClass_filteredCounts.\" +\n",
    "                   f\"{count_lowcluster}-{count_highcluster}.pdf\")"
   ]
  },
  {
   "cell_type": "markdown",
   "id": "6d4236a0-705a-4608-85b8-c1cb2cfd330a",
   "metadata": {},
   "source": [
    "# Scratch"
   ]
  },
  {
   "cell_type": "code",
   "execution_count": null,
   "id": "7931d7d1-7ba3-4999-9eaf-d14e261a6b96",
   "metadata": {},
   "outputs": [],
   "source": [
    "# Memory cleanup\n",
    "\n",
    "del top_features_log_reg_sub, raw_feature_expression_sub_mean, in_regression, long_enough, keep_genes, kept_gene_names, detectable_genes, optical_crowding_genes, is_expression_candidate, expression_candidates, final_candidates\n",
    "\n",
    "adata.raw = None\n",
    "adata.obs = adata.obs.loc[:, [\"author_cell_type\"]]\n",
    "adata.var = adata.var.loc[:, [\"gene_symbols\", \"feature_name\"]]\n",
    "\n",
    "import gc\n",
    "import ctypes\n",
    "gc.collect() # Free memory\n",
    "libc = ctypes.CDLL(\"libc.so.6\") # clearing cache \n",
    "libc.malloc_trim(0)"
   ]
  }
 ],
 "metadata": {
  "kernelspec": {
   "display_name": "Python 3.11.5",
   "language": "python",
   "name": "py3.11"
  },
  "language_info": {
   "codemirror_mode": {
    "name": "ipython",
    "version": 3
   },
   "file_extension": ".py",
   "mimetype": "text/x-python",
   "name": "python",
   "nbconvert_exporter": "python",
   "pygments_lexer": "ipython3",
   "version": "3.11.7"
  }
 },
 "nbformat": 4,
 "nbformat_minor": 5
}
