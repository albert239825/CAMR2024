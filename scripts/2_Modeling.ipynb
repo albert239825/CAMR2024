{
 "cells": [
  {
   "cell_type": "markdown",
   "metadata": {},
   "source": [
    "## Modeling Notebook\n",
    "\n",
    "\n",
    "In this notebook, we're going to apply various machine learning approaches analyze the mouse retinal data"
   ]
  },
  {
   "cell_type": "code",
   "execution_count": 10,
   "metadata": {},
   "outputs": [],
   "source": [
    "import sklearn as sk\n",
    "import anndata as ad\n",
    "import scanpy as sc \n",
    "import matplotlib.pyplot as plt\n",
    "import pandas as pd\n",
    "import numpy as np\n",
    "import os\n",
    "import joblib\n",
    "\n",
    "os.chdir('/project/hipaa_ycheng11lab/atlas/CAMR2024')\n",
    "os.makedirs('02_Modeling', exist_ok = True)\n",
    "sc.settings.n_jobs = -1"
   ]
  },
  {
   "cell_type": "code",
   "execution_count": 11,
   "metadata": {},
   "outputs": [],
   "source": [
    "adata = ad.read_h5ad('01_QualityControl/1_camr_scrublet_batch_filtered.h5ad')"
   ]
  },
  {
   "cell_type": "code",
   "execution_count": 12,
   "metadata": {
    "collapsed": true,
    "jupyter": {
     "outputs_hidden": true
    }
   },
   "outputs": [
    {
     "name": "stdout",
     "output_type": "stream",
     "text": [
      "AnnData object with n_obs × n_vars = 294561 × 32034\n",
      "    obs: 'nCount_RNA', 'nFeature_RNA', 'percent.mt', 'pANN', 'sampleid', 'subclass_label', 'majorclass', 'author_cell_type', 'age', 'gender', 'reference', 'accession', 'sample_note', 'development_stage_ontology_term_id', 'tissue_ontology_term_id', 'assay_ontology_term_id', 'disease_ontology_term_id', 'donor_id', 'organism_ontology_term_id', 'self_reported_ethnicity_ontology_term_id', 'sex_ontology_term_id', 'suspension_type', 'tissue_type', 'library_platform', 'cell_type_ontology_term_id', 'is_primary_data', 'cell_type', 'assay', 'disease', 'organism', 'sex', 'tissue', 'self_reported_ethnicity', 'development_stage', 'observation_joinid', 'n_genes', 'doublet_score', 'predicted_doublet', 'n_genes_by_counts', 'log1p_n_genes_by_counts', 'total_counts', 'log1p_total_counts', 'pct_counts_in_top_50_genes', 'pct_counts_in_top_100_genes', 'pct_counts_in_top_200_genes', 'pct_counts_in_top_500_genes', 'total_counts_mt', 'log1p_total_counts_mt', 'pct_counts_mt', 'leiden_res_0.02', 'leiden_res_0.50', 'leiden_res_1.00', 'leiden_res_2.00'\n",
      "    var: 'gene_symbols', 'feature_is_filtered', 'feature_name', 'feature_reference', 'feature_biotype', 'feature_length', 'mt', 'n_cells_by_counts', 'mean_counts', 'log1p_mean_counts', 'pct_dropout_by_counts', 'total_counts', 'log1p_total_counts', 'highly_variable', 'means', 'dispersions', 'dispersions_norm'\n",
      "    uns: 'cell_type_colors', 'citation', 'default_embedding', 'hvg', 'leiden_res_0.02', 'leiden_res_0.02_colors', 'leiden_res_0.50', 'leiden_res_0.50_colors', 'leiden_res_1.00', 'leiden_res_2.00', 'leiden_res_2.00_colors', 'log1p', 'majorclass_colors', 'neighbors', 'pca', 'predicted_doublet_colors', 'reference_colors', 'schema_reference', 'schema_version', 'scrublet', 'title', 'umap'\n",
      "    obsm: 'X_pca', 'X_pca_harmony', 'X_scVI', 'X_umap', 'X_umap_calculated', 'X_umap_calculated_harmony', 'X_umap_calculated_normalized', 'X_umap_original'\n",
      "    varm: 'PCs'\n",
      "    obsp: 'connectivities', 'distances'\n"
     ]
    },
    {
     "data": {
      "text/html": [
       "<div>\n",
       "<style scoped>\n",
       "    .dataframe tbody tr th:only-of-type {\n",
       "        vertical-align: middle;\n",
       "    }\n",
       "\n",
       "    .dataframe tbody tr th {\n",
       "        vertical-align: top;\n",
       "    }\n",
       "\n",
       "    .dataframe thead th {\n",
       "        text-align: right;\n",
       "    }\n",
       "</style>\n",
       "<table border=\"1\" class=\"dataframe\">\n",
       "  <thead>\n",
       "    <tr style=\"text-align: right;\">\n",
       "      <th></th>\n",
       "      <th>nCount_RNA</th>\n",
       "      <th>nFeature_RNA</th>\n",
       "      <th>percent.mt</th>\n",
       "      <th>pANN</th>\n",
       "      <th>sampleid</th>\n",
       "      <th>subclass_label</th>\n",
       "      <th>majorclass</th>\n",
       "      <th>author_cell_type</th>\n",
       "      <th>age</th>\n",
       "      <th>gender</th>\n",
       "      <th>...</th>\n",
       "      <th>pct_counts_in_top_100_genes</th>\n",
       "      <th>pct_counts_in_top_200_genes</th>\n",
       "      <th>pct_counts_in_top_500_genes</th>\n",
       "      <th>total_counts_mt</th>\n",
       "      <th>log1p_total_counts_mt</th>\n",
       "      <th>pct_counts_mt</th>\n",
       "      <th>leiden_res_0.02</th>\n",
       "      <th>leiden_res_0.50</th>\n",
       "      <th>leiden_res_1.00</th>\n",
       "      <th>leiden_res_2.00</th>\n",
       "    </tr>\n",
       "  </thead>\n",
       "  <tbody>\n",
       "    <tr>\n",
       "      <th>10x3_Ms_WT_P14_AAACCCAAGGGATCTG-1</th>\n",
       "      <td>8090.0</td>\n",
       "      <td>3062.0</td>\n",
       "      <td>9.431397</td>\n",
       "      <td>0.191304</td>\n",
       "      <td>10x3_Ms_WT_P14</td>\n",
       "      <td>NaN</td>\n",
       "      <td>BC</td>\n",
       "      <td>RBC</td>\n",
       "      <td>P14</td>\n",
       "      <td>Male</td>\n",
       "      <td>...</td>\n",
       "      <td>31.965282</td>\n",
       "      <td>41.140732</td>\n",
       "      <td>57.296962</td>\n",
       "      <td>763.0</td>\n",
       "      <td>6.638568</td>\n",
       "      <td>9.460632</td>\n",
       "      <td>0</td>\n",
       "      <td>0</td>\n",
       "      <td>0</td>\n",
       "      <td>0</td>\n",
       "    </tr>\n",
       "    <tr>\n",
       "      <th>10x3_Ms_WT_P14_AAACCCACATGGATCT-1</th>\n",
       "      <td>8397.0</td>\n",
       "      <td>3145.0</td>\n",
       "      <td>7.264499</td>\n",
       "      <td>0.217391</td>\n",
       "      <td>10x3_Ms_WT_P14</td>\n",
       "      <td>NaN</td>\n",
       "      <td>BC</td>\n",
       "      <td>RBC</td>\n",
       "      <td>P14</td>\n",
       "      <td>Male</td>\n",
       "      <td>...</td>\n",
       "      <td>31.512253</td>\n",
       "      <td>40.812911</td>\n",
       "      <td>56.724447</td>\n",
       "      <td>610.0</td>\n",
       "      <td>6.415097</td>\n",
       "      <td>7.292289</td>\n",
       "      <td>0</td>\n",
       "      <td>0</td>\n",
       "      <td>0</td>\n",
       "      <td>0</td>\n",
       "    </tr>\n",
       "    <tr>\n",
       "      <th>10x3_Ms_WT_P14_AAAGTCCAGCTGAAGC-1</th>\n",
       "      <td>11927.0</td>\n",
       "      <td>3686.0</td>\n",
       "      <td>8.325648</td>\n",
       "      <td>0.200000</td>\n",
       "      <td>10x3_Ms_WT_P14</td>\n",
       "      <td>NaN</td>\n",
       "      <td>BC</td>\n",
       "      <td>RBC</td>\n",
       "      <td>P14</td>\n",
       "      <td>Male</td>\n",
       "      <td>...</td>\n",
       "      <td>33.465097</td>\n",
       "      <td>42.968881</td>\n",
       "      <td>58.359966</td>\n",
       "      <td>993.0</td>\n",
       "      <td>6.901737</td>\n",
       "      <td>8.351556</td>\n",
       "      <td>0</td>\n",
       "      <td>0</td>\n",
       "      <td>0</td>\n",
       "      <td>0</td>\n",
       "    </tr>\n",
       "    <tr>\n",
       "      <th>10x3_Ms_WT_P14_AAATGGAGTCACCCTT-1</th>\n",
       "      <td>10331.0</td>\n",
       "      <td>3621.0</td>\n",
       "      <td>6.427258</td>\n",
       "      <td>0.173913</td>\n",
       "      <td>10x3_Ms_WT_P14</td>\n",
       "      <td>NaN</td>\n",
       "      <td>BC</td>\n",
       "      <td>RBC</td>\n",
       "      <td>P14</td>\n",
       "      <td>Male</td>\n",
       "      <td>...</td>\n",
       "      <td>31.726283</td>\n",
       "      <td>40.649300</td>\n",
       "      <td>55.598756</td>\n",
       "      <td>664.0</td>\n",
       "      <td>6.499787</td>\n",
       "      <td>6.454121</td>\n",
       "      <td>0</td>\n",
       "      <td>0</td>\n",
       "      <td>0</td>\n",
       "      <td>0</td>\n",
       "    </tr>\n",
       "    <tr>\n",
       "      <th>10x3_Ms_WT_P14_AACACACCAGAACTAA-1</th>\n",
       "      <td>11236.0</td>\n",
       "      <td>3739.0</td>\n",
       "      <td>6.034176</td>\n",
       "      <td>0.165217</td>\n",
       "      <td>10x3_Ms_WT_P14</td>\n",
       "      <td>NaN</td>\n",
       "      <td>BC</td>\n",
       "      <td>RBC</td>\n",
       "      <td>P14</td>\n",
       "      <td>Male</td>\n",
       "      <td>...</td>\n",
       "      <td>30.375457</td>\n",
       "      <td>39.445287</td>\n",
       "      <td>54.882725</td>\n",
       "      <td>678.0</td>\n",
       "      <td>6.520621</td>\n",
       "      <td>6.046553</td>\n",
       "      <td>0</td>\n",
       "      <td>0</td>\n",
       "      <td>0</td>\n",
       "      <td>0</td>\n",
       "    </tr>\n",
       "  </tbody>\n",
       "</table>\n",
       "<p>5 rows × 53 columns</p>\n",
       "</div>"
      ],
      "text/plain": [
       "                                   nCount_RNA  nFeature_RNA  percent.mt  \\\n",
       "10x3_Ms_WT_P14_AAACCCAAGGGATCTG-1      8090.0        3062.0    9.431397   \n",
       "10x3_Ms_WT_P14_AAACCCACATGGATCT-1      8397.0        3145.0    7.264499   \n",
       "10x3_Ms_WT_P14_AAAGTCCAGCTGAAGC-1     11927.0        3686.0    8.325648   \n",
       "10x3_Ms_WT_P14_AAATGGAGTCACCCTT-1     10331.0        3621.0    6.427258   \n",
       "10x3_Ms_WT_P14_AACACACCAGAACTAA-1     11236.0        3739.0    6.034176   \n",
       "\n",
       "                                       pANN        sampleid subclass_label  \\\n",
       "10x3_Ms_WT_P14_AAACCCAAGGGATCTG-1  0.191304  10x3_Ms_WT_P14            NaN   \n",
       "10x3_Ms_WT_P14_AAACCCACATGGATCT-1  0.217391  10x3_Ms_WT_P14            NaN   \n",
       "10x3_Ms_WT_P14_AAAGTCCAGCTGAAGC-1  0.200000  10x3_Ms_WT_P14            NaN   \n",
       "10x3_Ms_WT_P14_AAATGGAGTCACCCTT-1  0.173913  10x3_Ms_WT_P14            NaN   \n",
       "10x3_Ms_WT_P14_AACACACCAGAACTAA-1  0.165217  10x3_Ms_WT_P14            NaN   \n",
       "\n",
       "                                  majorclass author_cell_type  age gender  \\\n",
       "10x3_Ms_WT_P14_AAACCCAAGGGATCTG-1         BC              RBC  P14   Male   \n",
       "10x3_Ms_WT_P14_AAACCCACATGGATCT-1         BC              RBC  P14   Male   \n",
       "10x3_Ms_WT_P14_AAAGTCCAGCTGAAGC-1         BC              RBC  P14   Male   \n",
       "10x3_Ms_WT_P14_AAATGGAGTCACCCTT-1         BC              RBC  P14   Male   \n",
       "10x3_Ms_WT_P14_AACACACCAGAACTAA-1         BC              RBC  P14   Male   \n",
       "\n",
       "                                   ... pct_counts_in_top_100_genes  \\\n",
       "10x3_Ms_WT_P14_AAACCCAAGGGATCTG-1  ...                   31.965282   \n",
       "10x3_Ms_WT_P14_AAACCCACATGGATCT-1  ...                   31.512253   \n",
       "10x3_Ms_WT_P14_AAAGTCCAGCTGAAGC-1  ...                   33.465097   \n",
       "10x3_Ms_WT_P14_AAATGGAGTCACCCTT-1  ...                   31.726283   \n",
       "10x3_Ms_WT_P14_AACACACCAGAACTAA-1  ...                   30.375457   \n",
       "\n",
       "                                  pct_counts_in_top_200_genes  \\\n",
       "10x3_Ms_WT_P14_AAACCCAAGGGATCTG-1                   41.140732   \n",
       "10x3_Ms_WT_P14_AAACCCACATGGATCT-1                   40.812911   \n",
       "10x3_Ms_WT_P14_AAAGTCCAGCTGAAGC-1                   42.968881   \n",
       "10x3_Ms_WT_P14_AAATGGAGTCACCCTT-1                   40.649300   \n",
       "10x3_Ms_WT_P14_AACACACCAGAACTAA-1                   39.445287   \n",
       "\n",
       "                                  pct_counts_in_top_500_genes total_counts_mt  \\\n",
       "10x3_Ms_WT_P14_AAACCCAAGGGATCTG-1                   57.296962           763.0   \n",
       "10x3_Ms_WT_P14_AAACCCACATGGATCT-1                   56.724447           610.0   \n",
       "10x3_Ms_WT_P14_AAAGTCCAGCTGAAGC-1                   58.359966           993.0   \n",
       "10x3_Ms_WT_P14_AAATGGAGTCACCCTT-1                   55.598756           664.0   \n",
       "10x3_Ms_WT_P14_AACACACCAGAACTAA-1                   54.882725           678.0   \n",
       "\n",
       "                                  log1p_total_counts_mt pct_counts_mt  \\\n",
       "10x3_Ms_WT_P14_AAACCCAAGGGATCTG-1              6.638568      9.460632   \n",
       "10x3_Ms_WT_P14_AAACCCACATGGATCT-1              6.415097      7.292289   \n",
       "10x3_Ms_WT_P14_AAAGTCCAGCTGAAGC-1              6.901737      8.351556   \n",
       "10x3_Ms_WT_P14_AAATGGAGTCACCCTT-1              6.499787      6.454121   \n",
       "10x3_Ms_WT_P14_AACACACCAGAACTAA-1              6.520621      6.046553   \n",
       "\n",
       "                                  leiden_res_0.02 leiden_res_0.50  \\\n",
       "10x3_Ms_WT_P14_AAACCCAAGGGATCTG-1               0               0   \n",
       "10x3_Ms_WT_P14_AAACCCACATGGATCT-1               0               0   \n",
       "10x3_Ms_WT_P14_AAAGTCCAGCTGAAGC-1               0               0   \n",
       "10x3_Ms_WT_P14_AAATGGAGTCACCCTT-1               0               0   \n",
       "10x3_Ms_WT_P14_AACACACCAGAACTAA-1               0               0   \n",
       "\n",
       "                                  leiden_res_1.00 leiden_res_2.00  \n",
       "10x3_Ms_WT_P14_AAACCCAAGGGATCTG-1               0               0  \n",
       "10x3_Ms_WT_P14_AAACCCACATGGATCT-1               0               0  \n",
       "10x3_Ms_WT_P14_AAAGTCCAGCTGAAGC-1               0               0  \n",
       "10x3_Ms_WT_P14_AAATGGAGTCACCCTT-1               0               0  \n",
       "10x3_Ms_WT_P14_AACACACCAGAACTAA-1               0               0  \n",
       "\n",
       "[5 rows x 53 columns]"
      ]
     },
     "execution_count": 12,
     "metadata": {},
     "output_type": "execute_result"
    }
   ],
   "source": [
    "print(adata)\n",
    "adata.obs.head()"
   ]
  },
  {
   "cell_type": "code",
   "execution_count": 13,
   "metadata": {},
   "outputs": [
    {
     "data": {
      "text/plain": [
       "-1"
      ]
     },
     "execution_count": 13,
     "metadata": {},
     "output_type": "execute_result"
    }
   ],
   "source": [
    "sc.settings.n_jobs"
   ]
  },
  {
   "cell_type": "code",
   "execution_count": 14,
   "metadata": {},
   "outputs": [],
   "source": [
    "# Only keeping variable genes\n",
    "adata = adata[:, adata.var.highly_variable]\n",
    "if not os.path.isfile('02_Modeling/2_camr_modeling_input.h5ad'):\n",
    "    adata.write('02_Modeling/2_camr_modeling_input.h5ad')"
   ]
  },
  {
   "cell_type": "code",
   "execution_count": 15,
   "metadata": {
    "collapsed": true,
    "jupyter": {
     "outputs_hidden": true
    }
   },
   "outputs": [
    {
     "name": "stdout",
     "output_type": "stream",
     "text": [
      "View of AnnData object with n_obs × n_vars = 294561 × 2175\n",
      "    obs: 'nCount_RNA', 'nFeature_RNA', 'percent.mt', 'pANN', 'sampleid', 'subclass_label', 'majorclass', 'author_cell_type', 'age', 'gender', 'reference', 'accession', 'sample_note', 'development_stage_ontology_term_id', 'tissue_ontology_term_id', 'assay_ontology_term_id', 'disease_ontology_term_id', 'donor_id', 'organism_ontology_term_id', 'self_reported_ethnicity_ontology_term_id', 'sex_ontology_term_id', 'suspension_type', 'tissue_type', 'library_platform', 'cell_type_ontology_term_id', 'is_primary_data', 'cell_type', 'assay', 'disease', 'organism', 'sex', 'tissue', 'self_reported_ethnicity', 'development_stage', 'observation_joinid', 'n_genes', 'doublet_score', 'predicted_doublet', 'n_genes_by_counts', 'log1p_n_genes_by_counts', 'total_counts', 'log1p_total_counts', 'pct_counts_in_top_50_genes', 'pct_counts_in_top_100_genes', 'pct_counts_in_top_200_genes', 'pct_counts_in_top_500_genes', 'total_counts_mt', 'log1p_total_counts_mt', 'pct_counts_mt', 'leiden_res_0.02', 'leiden_res_0.50', 'leiden_res_1.00', 'leiden_res_2.00'\n",
      "    var: 'gene_symbols', 'feature_is_filtered', 'feature_name', 'feature_reference', 'feature_biotype', 'feature_length', 'mt', 'n_cells_by_counts', 'mean_counts', 'log1p_mean_counts', 'pct_dropout_by_counts', 'total_counts', 'log1p_total_counts', 'highly_variable', 'means', 'dispersions', 'dispersions_norm'\n",
      "    uns: 'cell_type_colors', 'citation', 'default_embedding', 'hvg', 'leiden_res_0.02', 'leiden_res_0.02_colors', 'leiden_res_0.50', 'leiden_res_0.50_colors', 'leiden_res_1.00', 'leiden_res_2.00', 'leiden_res_2.00_colors', 'log1p', 'majorclass_colors', 'neighbors', 'pca', 'predicted_doublet_colors', 'reference_colors', 'schema_reference', 'schema_version', 'scrublet', 'title', 'umap'\n",
      "    obsm: 'X_pca', 'X_pca_harmony', 'X_scVI', 'X_umap', 'X_umap_calculated', 'X_umap_calculated_harmony', 'X_umap_calculated_normalized', 'X_umap_original'\n",
      "    varm: 'PCs'\n",
      "    obsp: 'connectivities', 'distances'\n"
     ]
    }
   ],
   "source": [
    "print(adata)"
   ]
  },
  {
   "cell_type": "code",
   "execution_count": 16,
   "metadata": {
    "scrolled": true
   },
   "outputs": [],
   "source": [
    "if False:\n",
    "    # Calculating Cluster Specific Differentially Expressed Genes\n",
    "    sc.tl.rank_genes_groups(adata, groupby=\"leiden_res_0.02\", method=\"wilcoxon\")\n",
    "\n",
    "    sc.pl.rank_genes_groups_dotplot(\n",
    "        adata, groupby=\"leiden_res_0.02\", standard_scale=\"var\", n_genes=5,\n",
    "    )\n",
    "\n",
    "    plt.savefig('02_Modeling/figures/rank_gene_groups_leiden_res_0.02.pdf')\n",
    "    plt.show()"
   ]
  },
  {
   "cell_type": "markdown",
   "metadata": {},
   "source": [
    "## Cell Type Classification"
   ]
  },
  {
   "cell_type": "code",
   "execution_count": 17,
   "metadata": {},
   "outputs": [],
   "source": [
    "analysis_name = 'majorclass'"
   ]
  },
  {
   "cell_type": "markdown",
   "metadata": {},
   "source": [
    "### Random Forest Classifier"
   ]
  },
  {
   "cell_type": "code",
   "execution_count": 18,
   "metadata": {},
   "outputs": [],
   "source": [
    "from scipy.sparse import issparse\n",
    "from sklearn.ensemble import RandomForestClassifier\n",
    "from sklearn.model_selection import train_test_split\n",
    "from sklearn.preprocessing import LabelEncoder\n",
    "from sklearn.metrics import classification_report\n",
    "import seaborn as sns"
   ]
  },
  {
   "cell_type": "code",
   "execution_count": 19,
   "metadata": {},
   "outputs": [],
   "source": [
    "# Extract feature matrix (X) and target vector (y)\n",
    "X = adata.X\n",
    "y = adata.obs['majorclass']\n",
    "\n",
    "# Convert sparse matrix to dense for [insert reason]\n",
    "if issparse(X):\n",
    "    X = X.toarray()\n",
    "\n",
    "# Encode the target variable for [insert reason]\n",
    "le = LabelEncoder()\n",
    "y_encoded = le.fit_transform(y)\n",
    "\n",
    "X_train, X_test, y_train, y_test = train_test_split(X, y_encoded, test_size=0.2, random_state=42)"
   ]
  },
  {
   "cell_type": "code",
   "execution_count": 20,
   "metadata": {
    "collapsed": true,
    "jupyter": {
     "outputs_hidden": true
    },
    "scrolled": true
   },
   "outputs": [
    {
     "data": {
      "text/html": [
       "<style>#sk-container-id-1 {\n",
       "  /* Definition of color scheme common for light and dark mode */\n",
       "  --sklearn-color-text: black;\n",
       "  --sklearn-color-line: gray;\n",
       "  /* Definition of color scheme for unfitted estimators */\n",
       "  --sklearn-color-unfitted-level-0: #fff5e6;\n",
       "  --sklearn-color-unfitted-level-1: #f6e4d2;\n",
       "  --sklearn-color-unfitted-level-2: #ffe0b3;\n",
       "  --sklearn-color-unfitted-level-3: chocolate;\n",
       "  /* Definition of color scheme for fitted estimators */\n",
       "  --sklearn-color-fitted-level-0: #f0f8ff;\n",
       "  --sklearn-color-fitted-level-1: #d4ebff;\n",
       "  --sklearn-color-fitted-level-2: #b3dbfd;\n",
       "  --sklearn-color-fitted-level-3: cornflowerblue;\n",
       "\n",
       "  /* Specific color for light theme */\n",
       "  --sklearn-color-text-on-default-background: var(--sg-text-color, var(--theme-code-foreground, var(--jp-content-font-color1, black)));\n",
       "  --sklearn-color-background: var(--sg-background-color, var(--theme-background, var(--jp-layout-color0, white)));\n",
       "  --sklearn-color-border-box: var(--sg-text-color, var(--theme-code-foreground, var(--jp-content-font-color1, black)));\n",
       "  --sklearn-color-icon: #696969;\n",
       "\n",
       "  @media (prefers-color-scheme: dark) {\n",
       "    /* Redefinition of color scheme for dark theme */\n",
       "    --sklearn-color-text-on-default-background: var(--sg-text-color, var(--theme-code-foreground, var(--jp-content-font-color1, white)));\n",
       "    --sklearn-color-background: var(--sg-background-color, var(--theme-background, var(--jp-layout-color0, #111)));\n",
       "    --sklearn-color-border-box: var(--sg-text-color, var(--theme-code-foreground, var(--jp-content-font-color1, white)));\n",
       "    --sklearn-color-icon: #878787;\n",
       "  }\n",
       "}\n",
       "\n",
       "#sk-container-id-1 {\n",
       "  color: var(--sklearn-color-text);\n",
       "}\n",
       "\n",
       "#sk-container-id-1 pre {\n",
       "  padding: 0;\n",
       "}\n",
       "\n",
       "#sk-container-id-1 input.sk-hidden--visually {\n",
       "  border: 0;\n",
       "  clip: rect(1px 1px 1px 1px);\n",
       "  clip: rect(1px, 1px, 1px, 1px);\n",
       "  height: 1px;\n",
       "  margin: -1px;\n",
       "  overflow: hidden;\n",
       "  padding: 0;\n",
       "  position: absolute;\n",
       "  width: 1px;\n",
       "}\n",
       "\n",
       "#sk-container-id-1 div.sk-dashed-wrapped {\n",
       "  border: 1px dashed var(--sklearn-color-line);\n",
       "  margin: 0 0.4em 0.5em 0.4em;\n",
       "  box-sizing: border-box;\n",
       "  padding-bottom: 0.4em;\n",
       "  background-color: var(--sklearn-color-background);\n",
       "}\n",
       "\n",
       "#sk-container-id-1 div.sk-container {\n",
       "  /* jupyter's `normalize.less` sets `[hidden] { display: none; }`\n",
       "     but bootstrap.min.css set `[hidden] { display: none !important; }`\n",
       "     so we also need the `!important` here to be able to override the\n",
       "     default hidden behavior on the sphinx rendered scikit-learn.org.\n",
       "     See: https://github.com/scikit-learn/scikit-learn/issues/21755 */\n",
       "  display: inline-block !important;\n",
       "  position: relative;\n",
       "}\n",
       "\n",
       "#sk-container-id-1 div.sk-text-repr-fallback {\n",
       "  display: none;\n",
       "}\n",
       "\n",
       "div.sk-parallel-item,\n",
       "div.sk-serial,\n",
       "div.sk-item {\n",
       "  /* draw centered vertical line to link estimators */\n",
       "  background-image: linear-gradient(var(--sklearn-color-text-on-default-background), var(--sklearn-color-text-on-default-background));\n",
       "  background-size: 2px 100%;\n",
       "  background-repeat: no-repeat;\n",
       "  background-position: center center;\n",
       "}\n",
       "\n",
       "/* Parallel-specific style estimator block */\n",
       "\n",
       "#sk-container-id-1 div.sk-parallel-item::after {\n",
       "  content: \"\";\n",
       "  width: 100%;\n",
       "  border-bottom: 2px solid var(--sklearn-color-text-on-default-background);\n",
       "  flex-grow: 1;\n",
       "}\n",
       "\n",
       "#sk-container-id-1 div.sk-parallel {\n",
       "  display: flex;\n",
       "  align-items: stretch;\n",
       "  justify-content: center;\n",
       "  background-color: var(--sklearn-color-background);\n",
       "  position: relative;\n",
       "}\n",
       "\n",
       "#sk-container-id-1 div.sk-parallel-item {\n",
       "  display: flex;\n",
       "  flex-direction: column;\n",
       "}\n",
       "\n",
       "#sk-container-id-1 div.sk-parallel-item:first-child::after {\n",
       "  align-self: flex-end;\n",
       "  width: 50%;\n",
       "}\n",
       "\n",
       "#sk-container-id-1 div.sk-parallel-item:last-child::after {\n",
       "  align-self: flex-start;\n",
       "  width: 50%;\n",
       "}\n",
       "\n",
       "#sk-container-id-1 div.sk-parallel-item:only-child::after {\n",
       "  width: 0;\n",
       "}\n",
       "\n",
       "/* Serial-specific style estimator block */\n",
       "\n",
       "#sk-container-id-1 div.sk-serial {\n",
       "  display: flex;\n",
       "  flex-direction: column;\n",
       "  align-items: center;\n",
       "  background-color: var(--sklearn-color-background);\n",
       "  padding-right: 1em;\n",
       "  padding-left: 1em;\n",
       "}\n",
       "\n",
       "\n",
       "/* Toggleable style: style used for estimator/Pipeline/ColumnTransformer box that is\n",
       "clickable and can be expanded/collapsed.\n",
       "- Pipeline and ColumnTransformer use this feature and define the default style\n",
       "- Estimators will overwrite some part of the style using the `sk-estimator` class\n",
       "*/\n",
       "\n",
       "/* Pipeline and ColumnTransformer style (default) */\n",
       "\n",
       "#sk-container-id-1 div.sk-toggleable {\n",
       "  /* Default theme specific background. It is overwritten whether we have a\n",
       "  specific estimator or a Pipeline/ColumnTransformer */\n",
       "  background-color: var(--sklearn-color-background);\n",
       "}\n",
       "\n",
       "/* Toggleable label */\n",
       "#sk-container-id-1 label.sk-toggleable__label {\n",
       "  cursor: pointer;\n",
       "  display: block;\n",
       "  width: 100%;\n",
       "  margin-bottom: 0;\n",
       "  padding: 0.5em;\n",
       "  box-sizing: border-box;\n",
       "  text-align: center;\n",
       "}\n",
       "\n",
       "#sk-container-id-1 label.sk-toggleable__label-arrow:before {\n",
       "  /* Arrow on the left of the label */\n",
       "  content: \"▸\";\n",
       "  float: left;\n",
       "  margin-right: 0.25em;\n",
       "  color: var(--sklearn-color-icon);\n",
       "}\n",
       "\n",
       "#sk-container-id-1 label.sk-toggleable__label-arrow:hover:before {\n",
       "  color: var(--sklearn-color-text);\n",
       "}\n",
       "\n",
       "/* Toggleable content - dropdown */\n",
       "\n",
       "#sk-container-id-1 div.sk-toggleable__content {\n",
       "  max-height: 0;\n",
       "  max-width: 0;\n",
       "  overflow: hidden;\n",
       "  text-align: left;\n",
       "  /* unfitted */\n",
       "  background-color: var(--sklearn-color-unfitted-level-0);\n",
       "}\n",
       "\n",
       "#sk-container-id-1 div.sk-toggleable__content.fitted {\n",
       "  /* fitted */\n",
       "  background-color: var(--sklearn-color-fitted-level-0);\n",
       "}\n",
       "\n",
       "#sk-container-id-1 div.sk-toggleable__content pre {\n",
       "  margin: 0.2em;\n",
       "  border-radius: 0.25em;\n",
       "  color: var(--sklearn-color-text);\n",
       "  /* unfitted */\n",
       "  background-color: var(--sklearn-color-unfitted-level-0);\n",
       "}\n",
       "\n",
       "#sk-container-id-1 div.sk-toggleable__content.fitted pre {\n",
       "  /* unfitted */\n",
       "  background-color: var(--sklearn-color-fitted-level-0);\n",
       "}\n",
       "\n",
       "#sk-container-id-1 input.sk-toggleable__control:checked~div.sk-toggleable__content {\n",
       "  /* Expand drop-down */\n",
       "  max-height: 200px;\n",
       "  max-width: 100%;\n",
       "  overflow: auto;\n",
       "}\n",
       "\n",
       "#sk-container-id-1 input.sk-toggleable__control:checked~label.sk-toggleable__label-arrow:before {\n",
       "  content: \"▾\";\n",
       "}\n",
       "\n",
       "/* Pipeline/ColumnTransformer-specific style */\n",
       "\n",
       "#sk-container-id-1 div.sk-label input.sk-toggleable__control:checked~label.sk-toggleable__label {\n",
       "  color: var(--sklearn-color-text);\n",
       "  background-color: var(--sklearn-color-unfitted-level-2);\n",
       "}\n",
       "\n",
       "#sk-container-id-1 div.sk-label.fitted input.sk-toggleable__control:checked~label.sk-toggleable__label {\n",
       "  background-color: var(--sklearn-color-fitted-level-2);\n",
       "}\n",
       "\n",
       "/* Estimator-specific style */\n",
       "\n",
       "/* Colorize estimator box */\n",
       "#sk-container-id-1 div.sk-estimator input.sk-toggleable__control:checked~label.sk-toggleable__label {\n",
       "  /* unfitted */\n",
       "  background-color: var(--sklearn-color-unfitted-level-2);\n",
       "}\n",
       "\n",
       "#sk-container-id-1 div.sk-estimator.fitted input.sk-toggleable__control:checked~label.sk-toggleable__label {\n",
       "  /* fitted */\n",
       "  background-color: var(--sklearn-color-fitted-level-2);\n",
       "}\n",
       "\n",
       "#sk-container-id-1 div.sk-label label.sk-toggleable__label,\n",
       "#sk-container-id-1 div.sk-label label {\n",
       "  /* The background is the default theme color */\n",
       "  color: var(--sklearn-color-text-on-default-background);\n",
       "}\n",
       "\n",
       "/* On hover, darken the color of the background */\n",
       "#sk-container-id-1 div.sk-label:hover label.sk-toggleable__label {\n",
       "  color: var(--sklearn-color-text);\n",
       "  background-color: var(--sklearn-color-unfitted-level-2);\n",
       "}\n",
       "\n",
       "/* Label box, darken color on hover, fitted */\n",
       "#sk-container-id-1 div.sk-label.fitted:hover label.sk-toggleable__label.fitted {\n",
       "  color: var(--sklearn-color-text);\n",
       "  background-color: var(--sklearn-color-fitted-level-2);\n",
       "}\n",
       "\n",
       "/* Estimator label */\n",
       "\n",
       "#sk-container-id-1 div.sk-label label {\n",
       "  font-family: monospace;\n",
       "  font-weight: bold;\n",
       "  display: inline-block;\n",
       "  line-height: 1.2em;\n",
       "}\n",
       "\n",
       "#sk-container-id-1 div.sk-label-container {\n",
       "  text-align: center;\n",
       "}\n",
       "\n",
       "/* Estimator-specific */\n",
       "#sk-container-id-1 div.sk-estimator {\n",
       "  font-family: monospace;\n",
       "  border: 1px dotted var(--sklearn-color-border-box);\n",
       "  border-radius: 0.25em;\n",
       "  box-sizing: border-box;\n",
       "  margin-bottom: 0.5em;\n",
       "  /* unfitted */\n",
       "  background-color: var(--sklearn-color-unfitted-level-0);\n",
       "}\n",
       "\n",
       "#sk-container-id-1 div.sk-estimator.fitted {\n",
       "  /* fitted */\n",
       "  background-color: var(--sklearn-color-fitted-level-0);\n",
       "}\n",
       "\n",
       "/* on hover */\n",
       "#sk-container-id-1 div.sk-estimator:hover {\n",
       "  /* unfitted */\n",
       "  background-color: var(--sklearn-color-unfitted-level-2);\n",
       "}\n",
       "\n",
       "#sk-container-id-1 div.sk-estimator.fitted:hover {\n",
       "  /* fitted */\n",
       "  background-color: var(--sklearn-color-fitted-level-2);\n",
       "}\n",
       "\n",
       "/* Specification for estimator info (e.g. \"i\" and \"?\") */\n",
       "\n",
       "/* Common style for \"i\" and \"?\" */\n",
       "\n",
       ".sk-estimator-doc-link,\n",
       "a:link.sk-estimator-doc-link,\n",
       "a:visited.sk-estimator-doc-link {\n",
       "  float: right;\n",
       "  font-size: smaller;\n",
       "  line-height: 1em;\n",
       "  font-family: monospace;\n",
       "  background-color: var(--sklearn-color-background);\n",
       "  border-radius: 1em;\n",
       "  height: 1em;\n",
       "  width: 1em;\n",
       "  text-decoration: none !important;\n",
       "  margin-left: 1ex;\n",
       "  /* unfitted */\n",
       "  border: var(--sklearn-color-unfitted-level-1) 1pt solid;\n",
       "  color: var(--sklearn-color-unfitted-level-1);\n",
       "}\n",
       "\n",
       ".sk-estimator-doc-link.fitted,\n",
       "a:link.sk-estimator-doc-link.fitted,\n",
       "a:visited.sk-estimator-doc-link.fitted {\n",
       "  /* fitted */\n",
       "  border: var(--sklearn-color-fitted-level-1) 1pt solid;\n",
       "  color: var(--sklearn-color-fitted-level-1);\n",
       "}\n",
       "\n",
       "/* On hover */\n",
       "div.sk-estimator:hover .sk-estimator-doc-link:hover,\n",
       ".sk-estimator-doc-link:hover,\n",
       "div.sk-label-container:hover .sk-estimator-doc-link:hover,\n",
       ".sk-estimator-doc-link:hover {\n",
       "  /* unfitted */\n",
       "  background-color: var(--sklearn-color-unfitted-level-3);\n",
       "  color: var(--sklearn-color-background);\n",
       "  text-decoration: none;\n",
       "}\n",
       "\n",
       "div.sk-estimator.fitted:hover .sk-estimator-doc-link.fitted:hover,\n",
       ".sk-estimator-doc-link.fitted:hover,\n",
       "div.sk-label-container:hover .sk-estimator-doc-link.fitted:hover,\n",
       ".sk-estimator-doc-link.fitted:hover {\n",
       "  /* fitted */\n",
       "  background-color: var(--sklearn-color-fitted-level-3);\n",
       "  color: var(--sklearn-color-background);\n",
       "  text-decoration: none;\n",
       "}\n",
       "\n",
       "/* Span, style for the box shown on hovering the info icon */\n",
       ".sk-estimator-doc-link span {\n",
       "  display: none;\n",
       "  z-index: 9999;\n",
       "  position: relative;\n",
       "  font-weight: normal;\n",
       "  right: .2ex;\n",
       "  padding: .5ex;\n",
       "  margin: .5ex;\n",
       "  width: min-content;\n",
       "  min-width: 20ex;\n",
       "  max-width: 50ex;\n",
       "  color: var(--sklearn-color-text);\n",
       "  box-shadow: 2pt 2pt 4pt #999;\n",
       "  /* unfitted */\n",
       "  background: var(--sklearn-color-unfitted-level-0);\n",
       "  border: .5pt solid var(--sklearn-color-unfitted-level-3);\n",
       "}\n",
       "\n",
       ".sk-estimator-doc-link.fitted span {\n",
       "  /* fitted */\n",
       "  background: var(--sklearn-color-fitted-level-0);\n",
       "  border: var(--sklearn-color-fitted-level-3);\n",
       "}\n",
       "\n",
       ".sk-estimator-doc-link:hover span {\n",
       "  display: block;\n",
       "}\n",
       "\n",
       "/* \"?\"-specific style due to the `<a>` HTML tag */\n",
       "\n",
       "#sk-container-id-1 a.estimator_doc_link {\n",
       "  float: right;\n",
       "  font-size: 1rem;\n",
       "  line-height: 1em;\n",
       "  font-family: monospace;\n",
       "  background-color: var(--sklearn-color-background);\n",
       "  border-radius: 1rem;\n",
       "  height: 1rem;\n",
       "  width: 1rem;\n",
       "  text-decoration: none;\n",
       "  /* unfitted */\n",
       "  color: var(--sklearn-color-unfitted-level-1);\n",
       "  border: var(--sklearn-color-unfitted-level-1) 1pt solid;\n",
       "}\n",
       "\n",
       "#sk-container-id-1 a.estimator_doc_link.fitted {\n",
       "  /* fitted */\n",
       "  border: var(--sklearn-color-fitted-level-1) 1pt solid;\n",
       "  color: var(--sklearn-color-fitted-level-1);\n",
       "}\n",
       "\n",
       "/* On hover */\n",
       "#sk-container-id-1 a.estimator_doc_link:hover {\n",
       "  /* unfitted */\n",
       "  background-color: var(--sklearn-color-unfitted-level-3);\n",
       "  color: var(--sklearn-color-background);\n",
       "  text-decoration: none;\n",
       "}\n",
       "\n",
       "#sk-container-id-1 a.estimator_doc_link.fitted:hover {\n",
       "  /* fitted */\n",
       "  background-color: var(--sklearn-color-fitted-level-3);\n",
       "}\n",
       "</style><div id=\"sk-container-id-1\" class=\"sk-top-container\"><div class=\"sk-text-repr-fallback\"><pre>RandomForestClassifier(random_state=42)</pre><b>In a Jupyter environment, please rerun this cell to show the HTML representation or trust the notebook. <br />On GitHub, the HTML representation is unable to render, please try loading this page with nbviewer.org.</b></div><div class=\"sk-container\" hidden><div class=\"sk-item\"><div class=\"sk-estimator fitted sk-toggleable\"><input class=\"sk-toggleable__control sk-hidden--visually\" id=\"sk-estimator-id-1\" type=\"checkbox\" checked><label for=\"sk-estimator-id-1\" class=\"sk-toggleable__label fitted sk-toggleable__label-arrow fitted\">&nbsp;&nbsp;RandomForestClassifier<a class=\"sk-estimator-doc-link fitted\" rel=\"noreferrer\" target=\"_blank\" href=\"https://scikit-learn.org/1.4/modules/generated/sklearn.ensemble.RandomForestClassifier.html\">?<span>Documentation for RandomForestClassifier</span></a><span class=\"sk-estimator-doc-link fitted\">i<span>Fitted</span></span></label><div class=\"sk-toggleable__content fitted\"><pre>RandomForestClassifier(random_state=42)</pre></div> </div></div></div></div>"
      ],
      "text/plain": [
       "RandomForestClassifier(random_state=42)"
      ]
     },
     "execution_count": 20,
     "metadata": {},
     "output_type": "execute_result"
    }
   ],
   "source": [
    "# Initialize the classifier\n",
    "rf_classifier = RandomForestClassifier(n_estimators=100, random_state=42)\n",
    "\n",
    "# Train the classifier\n",
    "rf_classifier.fit(X_train, y_train)"
   ]
  },
  {
   "cell_type": "markdown",
   "metadata": {},
   "source": [
    "Seems faster training after only keeping highly variable genes\n",
    "Takes ~5 mins compared to at least 40 without (might be long I stopped the running)\n",
    "Takes about 30gb memory vs 180gb before"
   ]
  },
  {
   "cell_type": "code",
   "execution_count": 21,
   "metadata": {},
   "outputs": [
    {
     "name": "stdout",
     "output_type": "stream",
     "text": [
      "              precision    recall  f1-score   support\n",
      "\n",
      "          AC       1.00      1.00      1.00      8191\n",
      "   Astrocyte       0.95      0.99      0.97       253\n",
      "          BC       1.00      1.00      1.00     27477\n",
      "        Cone       1.00      1.00      1.00       923\n",
      " Endothelial       1.00      0.99      0.99       235\n",
      "          HC       1.00      0.67      0.80        21\n",
      "          MG       1.00      0.98      0.99      1493\n",
      "   Microglia       1.00      1.00      1.00      1167\n",
      "    Pericyte       1.00      0.98      0.99        86\n",
      "         RGC       1.00      1.00      1.00     12234\n",
      "         RPE       0.98      0.98      0.98        95\n",
      "         Rod       1.00      1.00      1.00      6738\n",
      "\n",
      "    accuracy                           1.00     58913\n",
      "   macro avg       0.99      0.96      0.98     58913\n",
      "weighted avg       1.00      1.00      1.00     58913\n",
      "\n"
     ]
    }
   ],
   "source": [
    "# Validate on the test set\n",
    "y_pred_rf = rf_classifier.predict(X_test)\n",
    "\n",
    "# View validation report\n",
    "validation_report = classification_report(y_test, y_pred_rf, target_names=le.classes_)\n",
    "print(validation_report)\n",
    "with open(f\"02_Modeling/{analysis_name}/2_rf_{analysis_name}_validation_report.txt\", \"w\") as report_file:\n",
    "    report_file.write(validation_report)"
   ]
  },
  {
   "cell_type": "code",
   "execution_count": 22,
   "metadata": {
    "scrolled": true
   },
   "outputs": [
    {
     "data": {
      "text/plain": [
       "['models/2_le_majorclass.pkl']"
      ]
     },
     "execution_count": 22,
     "metadata": {},
     "output_type": "execute_result"
    }
   ],
   "source": [
    "# Save the RandomForest classifier\n",
    "model_filename = f'02_Modeling/{analysis_name}/2_rf_{analysis_name}_classifier.pkl'\n",
    "joblib.dump(rf_classifier, model_filename)\n",
    "\n",
    "# Save the LabelEncoder\n",
    "le_filename = f'02_Modeling/{analysis_name}/2_le_{analysis_name}.pkl'\n",
    "joblib.dump(le, le_filename)"
   ]
  },
  {
   "cell_type": "code",
   "execution_count": 23,
   "metadata": {
    "collapsed": true,
    "jupyter": {
     "outputs_hidden": true
    }
   },
   "outputs": [
    {
     "ename": "FileNotFoundError",
     "evalue": "[Errno 2] No such file or directory: 'figures/2_modeling/random_forest_majorclass_confusion_matrix.png'",
     "output_type": "error",
     "traceback": [
      "\u001b[0;31m---------------------------------------------------------------------------\u001b[0m",
      "\u001b[0;31mFileNotFoundError\u001b[0m                         Traceback (most recent call last)",
      "Cell \u001b[0;32mIn[23], line 18\u001b[0m\n\u001b[1;32m     15\u001b[0m plt\u001b[38;5;241m.\u001b[39mylabel(\u001b[38;5;124m'\u001b[39m\u001b[38;5;124mTrue Label\u001b[39m\u001b[38;5;124m'\u001b[39m)\n\u001b[1;32m     16\u001b[0m plt\u001b[38;5;241m.\u001b[39mtitle(\u001b[38;5;124m'\u001b[39m\u001b[38;5;124mConfusion Matrix (Random Forest)\u001b[39m\u001b[38;5;124m'\u001b[39m)\n\u001b[0;32m---> 18\u001b[0m \u001b[43mplt\u001b[49m\u001b[38;5;241;43m.\u001b[39;49m\u001b[43msavefig\u001b[49m\u001b[43m(\u001b[49m\u001b[38;5;124;43mf\u001b[39;49m\u001b[38;5;124;43m\"\u001b[39;49m\u001b[38;5;124;43mfigures/2_modeling/random_forest_\u001b[39;49m\u001b[38;5;132;43;01m{\u001b[39;49;00m\u001b[43manalysis_name\u001b[49m\u001b[38;5;132;43;01m}\u001b[39;49;00m\u001b[38;5;124;43m_confusion_matrix\u001b[39;49m\u001b[38;5;124;43m\"\u001b[39;49m\u001b[43m,\u001b[49m\u001b[43m \u001b[49m\u001b[43mbbox_inches\u001b[49m\u001b[38;5;241;43m=\u001b[39;49m\u001b[38;5;124;43m'\u001b[39;49m\u001b[38;5;124;43mtight\u001b[39;49m\u001b[38;5;124;43m'\u001b[39;49m\u001b[43m)\u001b[49m\n\u001b[1;32m     19\u001b[0m plt\u001b[38;5;241m.\u001b[39mshow()\n",
      "File \u001b[0;32m/appl/python-3.11/lib/python3.11/site-packages/matplotlib/pyplot.py:954\u001b[0m, in \u001b[0;36msavefig\u001b[0;34m(*args, **kwargs)\u001b[0m\n\u001b[1;32m    951\u001b[0m \u001b[38;5;129m@_copy_docstring_and_deprecators\u001b[39m(Figure\u001b[38;5;241m.\u001b[39msavefig)\n\u001b[1;32m    952\u001b[0m \u001b[38;5;28;01mdef\u001b[39;00m \u001b[38;5;21msavefig\u001b[39m(\u001b[38;5;241m*\u001b[39margs, \u001b[38;5;241m*\u001b[39m\u001b[38;5;241m*\u001b[39mkwargs):\n\u001b[1;32m    953\u001b[0m     fig \u001b[38;5;241m=\u001b[39m gcf()\n\u001b[0;32m--> 954\u001b[0m     res \u001b[38;5;241m=\u001b[39m \u001b[43mfig\u001b[49m\u001b[38;5;241;43m.\u001b[39;49m\u001b[43msavefig\u001b[49m\u001b[43m(\u001b[49m\u001b[38;5;241;43m*\u001b[39;49m\u001b[43margs\u001b[49m\u001b[43m,\u001b[49m\u001b[43m \u001b[49m\u001b[38;5;241;43m*\u001b[39;49m\u001b[38;5;241;43m*\u001b[39;49m\u001b[43mkwargs\u001b[49m\u001b[43m)\u001b[49m\n\u001b[1;32m    955\u001b[0m     fig\u001b[38;5;241m.\u001b[39mcanvas\u001b[38;5;241m.\u001b[39mdraw_idle()  \u001b[38;5;66;03m# Need this if 'transparent=True', to reset colors.\u001b[39;00m\n\u001b[1;32m    956\u001b[0m     \u001b[38;5;28;01mreturn\u001b[39;00m res\n",
      "File \u001b[0;32m/appl/python-3.11/lib/python3.11/site-packages/matplotlib/figure.py:3274\u001b[0m, in \u001b[0;36mFigure.savefig\u001b[0;34m(self, fname, transparent, **kwargs)\u001b[0m\n\u001b[1;32m   3270\u001b[0m     \u001b[38;5;28;01mfor\u001b[39;00m ax \u001b[38;5;129;01min\u001b[39;00m \u001b[38;5;28mself\u001b[39m\u001b[38;5;241m.\u001b[39maxes:\n\u001b[1;32m   3271\u001b[0m         stack\u001b[38;5;241m.\u001b[39menter_context(\n\u001b[1;32m   3272\u001b[0m             ax\u001b[38;5;241m.\u001b[39mpatch\u001b[38;5;241m.\u001b[39m_cm_set(facecolor\u001b[38;5;241m=\u001b[39m\u001b[38;5;124m'\u001b[39m\u001b[38;5;124mnone\u001b[39m\u001b[38;5;124m'\u001b[39m, edgecolor\u001b[38;5;241m=\u001b[39m\u001b[38;5;124m'\u001b[39m\u001b[38;5;124mnone\u001b[39m\u001b[38;5;124m'\u001b[39m))\n\u001b[0;32m-> 3274\u001b[0m \u001b[38;5;28;43mself\u001b[39;49m\u001b[38;5;241;43m.\u001b[39;49m\u001b[43mcanvas\u001b[49m\u001b[38;5;241;43m.\u001b[39;49m\u001b[43mprint_figure\u001b[49m\u001b[43m(\u001b[49m\u001b[43mfname\u001b[49m\u001b[43m,\u001b[49m\u001b[43m \u001b[49m\u001b[38;5;241;43m*\u001b[39;49m\u001b[38;5;241;43m*\u001b[39;49m\u001b[43mkwargs\u001b[49m\u001b[43m)\u001b[49m\n",
      "File \u001b[0;32m/appl/python-3.11/lib/python3.11/site-packages/matplotlib/backend_bases.py:2338\u001b[0m, in \u001b[0;36mFigureCanvasBase.print_figure\u001b[0;34m(self, filename, dpi, facecolor, edgecolor, orientation, format, bbox_inches, pad_inches, bbox_extra_artists, backend, **kwargs)\u001b[0m\n\u001b[1;32m   2334\u001b[0m \u001b[38;5;28;01mtry\u001b[39;00m:\n\u001b[1;32m   2335\u001b[0m     \u001b[38;5;66;03m# _get_renderer may change the figure dpi (as vector formats\u001b[39;00m\n\u001b[1;32m   2336\u001b[0m     \u001b[38;5;66;03m# force the figure dpi to 72), so we need to set it again here.\u001b[39;00m\n\u001b[1;32m   2337\u001b[0m     \u001b[38;5;28;01mwith\u001b[39;00m cbook\u001b[38;5;241m.\u001b[39m_setattr_cm(\u001b[38;5;28mself\u001b[39m\u001b[38;5;241m.\u001b[39mfigure, dpi\u001b[38;5;241m=\u001b[39mdpi):\n\u001b[0;32m-> 2338\u001b[0m         result \u001b[38;5;241m=\u001b[39m \u001b[43mprint_method\u001b[49m\u001b[43m(\u001b[49m\n\u001b[1;32m   2339\u001b[0m \u001b[43m            \u001b[49m\u001b[43mfilename\u001b[49m\u001b[43m,\u001b[49m\n\u001b[1;32m   2340\u001b[0m \u001b[43m            \u001b[49m\u001b[43mfacecolor\u001b[49m\u001b[38;5;241;43m=\u001b[39;49m\u001b[43mfacecolor\u001b[49m\u001b[43m,\u001b[49m\n\u001b[1;32m   2341\u001b[0m \u001b[43m            \u001b[49m\u001b[43medgecolor\u001b[49m\u001b[38;5;241;43m=\u001b[39;49m\u001b[43medgecolor\u001b[49m\u001b[43m,\u001b[49m\n\u001b[1;32m   2342\u001b[0m \u001b[43m            \u001b[49m\u001b[43morientation\u001b[49m\u001b[38;5;241;43m=\u001b[39;49m\u001b[43morientation\u001b[49m\u001b[43m,\u001b[49m\n\u001b[1;32m   2343\u001b[0m \u001b[43m            \u001b[49m\u001b[43mbbox_inches_restore\u001b[49m\u001b[38;5;241;43m=\u001b[39;49m\u001b[43m_bbox_inches_restore\u001b[49m\u001b[43m,\u001b[49m\n\u001b[1;32m   2344\u001b[0m \u001b[43m            \u001b[49m\u001b[38;5;241;43m*\u001b[39;49m\u001b[38;5;241;43m*\u001b[39;49m\u001b[43mkwargs\u001b[49m\u001b[43m)\u001b[49m\n\u001b[1;32m   2345\u001b[0m \u001b[38;5;28;01mfinally\u001b[39;00m:\n\u001b[1;32m   2346\u001b[0m     \u001b[38;5;28;01mif\u001b[39;00m bbox_inches \u001b[38;5;129;01mand\u001b[39;00m restore_bbox:\n",
      "File \u001b[0;32m/appl/python-3.11/lib/python3.11/site-packages/matplotlib/backend_bases.py:2204\u001b[0m, in \u001b[0;36mFigureCanvasBase._switch_canvas_and_return_print_method.<locals>.<lambda>\u001b[0;34m(*args, **kwargs)\u001b[0m\n\u001b[1;32m   2200\u001b[0m     optional_kws \u001b[38;5;241m=\u001b[39m {  \u001b[38;5;66;03m# Passed by print_figure for other renderers.\u001b[39;00m\n\u001b[1;32m   2201\u001b[0m         \u001b[38;5;124m\"\u001b[39m\u001b[38;5;124mdpi\u001b[39m\u001b[38;5;124m\"\u001b[39m, \u001b[38;5;124m\"\u001b[39m\u001b[38;5;124mfacecolor\u001b[39m\u001b[38;5;124m\"\u001b[39m, \u001b[38;5;124m\"\u001b[39m\u001b[38;5;124medgecolor\u001b[39m\u001b[38;5;124m\"\u001b[39m, \u001b[38;5;124m\"\u001b[39m\u001b[38;5;124morientation\u001b[39m\u001b[38;5;124m\"\u001b[39m,\n\u001b[1;32m   2202\u001b[0m         \u001b[38;5;124m\"\u001b[39m\u001b[38;5;124mbbox_inches_restore\u001b[39m\u001b[38;5;124m\"\u001b[39m}\n\u001b[1;32m   2203\u001b[0m     skip \u001b[38;5;241m=\u001b[39m optional_kws \u001b[38;5;241m-\u001b[39m {\u001b[38;5;241m*\u001b[39minspect\u001b[38;5;241m.\u001b[39msignature(meth)\u001b[38;5;241m.\u001b[39mparameters}\n\u001b[0;32m-> 2204\u001b[0m     print_method \u001b[38;5;241m=\u001b[39m functools\u001b[38;5;241m.\u001b[39mwraps(meth)(\u001b[38;5;28;01mlambda\u001b[39;00m \u001b[38;5;241m*\u001b[39margs, \u001b[38;5;241m*\u001b[39m\u001b[38;5;241m*\u001b[39mkwargs: \u001b[43mmeth\u001b[49m\u001b[43m(\u001b[49m\n\u001b[1;32m   2205\u001b[0m \u001b[43m        \u001b[49m\u001b[38;5;241;43m*\u001b[39;49m\u001b[43margs\u001b[49m\u001b[43m,\u001b[49m\u001b[43m \u001b[49m\u001b[38;5;241;43m*\u001b[39;49m\u001b[38;5;241;43m*\u001b[39;49m\u001b[43m{\u001b[49m\u001b[43mk\u001b[49m\u001b[43m:\u001b[49m\u001b[43m \u001b[49m\u001b[43mv\u001b[49m\u001b[43m \u001b[49m\u001b[38;5;28;43;01mfor\u001b[39;49;00m\u001b[43m \u001b[49m\u001b[43mk\u001b[49m\u001b[43m,\u001b[49m\u001b[43m \u001b[49m\u001b[43mv\u001b[49m\u001b[43m \u001b[49m\u001b[38;5;129;43;01min\u001b[39;49;00m\u001b[43m \u001b[49m\u001b[43mkwargs\u001b[49m\u001b[38;5;241;43m.\u001b[39;49m\u001b[43mitems\u001b[49m\u001b[43m(\u001b[49m\u001b[43m)\u001b[49m\u001b[43m \u001b[49m\u001b[38;5;28;43;01mif\u001b[39;49;00m\u001b[43m \u001b[49m\u001b[43mk\u001b[49m\u001b[43m \u001b[49m\u001b[38;5;129;43;01mnot\u001b[39;49;00m\u001b[43m \u001b[49m\u001b[38;5;129;43;01min\u001b[39;49;00m\u001b[43m \u001b[49m\u001b[43mskip\u001b[49m\u001b[43m}\u001b[49m\u001b[43m)\u001b[49m)\n\u001b[1;32m   2206\u001b[0m \u001b[38;5;28;01melse\u001b[39;00m:  \u001b[38;5;66;03m# Let third-parties do as they see fit.\u001b[39;00m\n\u001b[1;32m   2207\u001b[0m     print_method \u001b[38;5;241m=\u001b[39m meth\n",
      "File \u001b[0;32m/appl/python-3.11/lib/python3.11/site-packages/matplotlib/_api/deprecation.py:410\u001b[0m, in \u001b[0;36mdelete_parameter.<locals>.wrapper\u001b[0;34m(*inner_args, **inner_kwargs)\u001b[0m\n\u001b[1;32m    400\u001b[0m     deprecation_addendum \u001b[38;5;241m=\u001b[39m (\n\u001b[1;32m    401\u001b[0m         \u001b[38;5;124mf\u001b[39m\u001b[38;5;124m\"\u001b[39m\u001b[38;5;124mIf any parameter follows \u001b[39m\u001b[38;5;132;01m{\u001b[39;00mname\u001b[38;5;132;01m!r}\u001b[39;00m\u001b[38;5;124m, they should be passed as \u001b[39m\u001b[38;5;124m\"\u001b[39m\n\u001b[1;32m    402\u001b[0m         \u001b[38;5;124mf\u001b[39m\u001b[38;5;124m\"\u001b[39m\u001b[38;5;124mkeyword, not positionally.\u001b[39m\u001b[38;5;124m\"\u001b[39m)\n\u001b[1;32m    403\u001b[0m     warn_deprecated(\n\u001b[1;32m    404\u001b[0m         since,\n\u001b[1;32m    405\u001b[0m         name\u001b[38;5;241m=\u001b[39m\u001b[38;5;28mrepr\u001b[39m(name),\n\u001b[0;32m   (...)\u001b[0m\n\u001b[1;32m    408\u001b[0m                  \u001b[38;5;28;01melse\u001b[39;00m deprecation_addendum,\n\u001b[1;32m    409\u001b[0m         \u001b[38;5;241m*\u001b[39m\u001b[38;5;241m*\u001b[39mkwargs)\n\u001b[0;32m--> 410\u001b[0m \u001b[38;5;28;01mreturn\u001b[39;00m \u001b[43mfunc\u001b[49m\u001b[43m(\u001b[49m\u001b[38;5;241;43m*\u001b[39;49m\u001b[43minner_args\u001b[49m\u001b[43m,\u001b[49m\u001b[43m \u001b[49m\u001b[38;5;241;43m*\u001b[39;49m\u001b[38;5;241;43m*\u001b[39;49m\u001b[43minner_kwargs\u001b[49m\u001b[43m)\u001b[49m\n",
      "File \u001b[0;32m/appl/python-3.11/lib/python3.11/site-packages/matplotlib/backends/backend_agg.py:517\u001b[0m, in \u001b[0;36mFigureCanvasAgg.print_png\u001b[0;34m(self, filename_or_obj, metadata, pil_kwargs, *args)\u001b[0m\n\u001b[1;32m    468\u001b[0m \u001b[38;5;129m@_api\u001b[39m\u001b[38;5;241m.\u001b[39mdelete_parameter(\u001b[38;5;124m\"\u001b[39m\u001b[38;5;124m3.5\u001b[39m\u001b[38;5;124m\"\u001b[39m, \u001b[38;5;124m\"\u001b[39m\u001b[38;5;124margs\u001b[39m\u001b[38;5;124m\"\u001b[39m)\n\u001b[1;32m    469\u001b[0m \u001b[38;5;28;01mdef\u001b[39;00m \u001b[38;5;21mprint_png\u001b[39m(\u001b[38;5;28mself\u001b[39m, filename_or_obj, \u001b[38;5;241m*\u001b[39margs,\n\u001b[1;32m    470\u001b[0m               metadata\u001b[38;5;241m=\u001b[39m\u001b[38;5;28;01mNone\u001b[39;00m, pil_kwargs\u001b[38;5;241m=\u001b[39m\u001b[38;5;28;01mNone\u001b[39;00m):\n\u001b[1;32m    471\u001b[0m \u001b[38;5;250m    \u001b[39m\u001b[38;5;124;03m\"\"\"\u001b[39;00m\n\u001b[1;32m    472\u001b[0m \u001b[38;5;124;03m    Write the figure to a PNG file.\u001b[39;00m\n\u001b[1;32m    473\u001b[0m \n\u001b[0;32m   (...)\u001b[0m\n\u001b[1;32m    515\u001b[0m \u001b[38;5;124;03m        *metadata*, including the default 'Software' key.\u001b[39;00m\n\u001b[1;32m    516\u001b[0m \u001b[38;5;124;03m    \"\"\"\u001b[39;00m\n\u001b[0;32m--> 517\u001b[0m     \u001b[38;5;28;43mself\u001b[39;49m\u001b[38;5;241;43m.\u001b[39;49m\u001b[43m_print_pil\u001b[49m\u001b[43m(\u001b[49m\u001b[43mfilename_or_obj\u001b[49m\u001b[43m,\u001b[49m\u001b[43m \u001b[49m\u001b[38;5;124;43m\"\u001b[39;49m\u001b[38;5;124;43mpng\u001b[39;49m\u001b[38;5;124;43m\"\u001b[39;49m\u001b[43m,\u001b[49m\u001b[43m \u001b[49m\u001b[43mpil_kwargs\u001b[49m\u001b[43m,\u001b[49m\u001b[43m \u001b[49m\u001b[43mmetadata\u001b[49m\u001b[43m)\u001b[49m\n",
      "File \u001b[0;32m/appl/python-3.11/lib/python3.11/site-packages/matplotlib/backends/backend_agg.py:464\u001b[0m, in \u001b[0;36mFigureCanvasAgg._print_pil\u001b[0;34m(self, filename_or_obj, fmt, pil_kwargs, metadata)\u001b[0m\n\u001b[1;32m    459\u001b[0m \u001b[38;5;250m\u001b[39m\u001b[38;5;124;03m\"\"\"\u001b[39;00m\n\u001b[1;32m    460\u001b[0m \u001b[38;5;124;03mDraw the canvas, then save it using `.image.imsave` (to which\u001b[39;00m\n\u001b[1;32m    461\u001b[0m \u001b[38;5;124;03m*pil_kwargs* and *metadata* are forwarded).\u001b[39;00m\n\u001b[1;32m    462\u001b[0m \u001b[38;5;124;03m\"\"\"\u001b[39;00m\n\u001b[1;32m    463\u001b[0m FigureCanvasAgg\u001b[38;5;241m.\u001b[39mdraw(\u001b[38;5;28mself\u001b[39m)\n\u001b[0;32m--> 464\u001b[0m \u001b[43mmpl\u001b[49m\u001b[38;5;241;43m.\u001b[39;49m\u001b[43mimage\u001b[49m\u001b[38;5;241;43m.\u001b[39;49m\u001b[43mimsave\u001b[49m\u001b[43m(\u001b[49m\n\u001b[1;32m    465\u001b[0m \u001b[43m    \u001b[49m\u001b[43mfilename_or_obj\u001b[49m\u001b[43m,\u001b[49m\u001b[43m \u001b[49m\u001b[38;5;28;43mself\u001b[39;49m\u001b[38;5;241;43m.\u001b[39;49m\u001b[43mbuffer_rgba\u001b[49m\u001b[43m(\u001b[49m\u001b[43m)\u001b[49m\u001b[43m,\u001b[49m\u001b[43m \u001b[49m\u001b[38;5;28;43mformat\u001b[39;49m\u001b[38;5;241;43m=\u001b[39;49m\u001b[43mfmt\u001b[49m\u001b[43m,\u001b[49m\u001b[43m \u001b[49m\u001b[43morigin\u001b[49m\u001b[38;5;241;43m=\u001b[39;49m\u001b[38;5;124;43m\"\u001b[39;49m\u001b[38;5;124;43mupper\u001b[39;49m\u001b[38;5;124;43m\"\u001b[39;49m\u001b[43m,\u001b[49m\n\u001b[1;32m    466\u001b[0m \u001b[43m    \u001b[49m\u001b[43mdpi\u001b[49m\u001b[38;5;241;43m=\u001b[39;49m\u001b[38;5;28;43mself\u001b[39;49m\u001b[38;5;241;43m.\u001b[39;49m\u001b[43mfigure\u001b[49m\u001b[38;5;241;43m.\u001b[39;49m\u001b[43mdpi\u001b[49m\u001b[43m,\u001b[49m\u001b[43m \u001b[49m\u001b[43mmetadata\u001b[49m\u001b[38;5;241;43m=\u001b[39;49m\u001b[43mmetadata\u001b[49m\u001b[43m,\u001b[49m\u001b[43m \u001b[49m\u001b[43mpil_kwargs\u001b[49m\u001b[38;5;241;43m=\u001b[39;49m\u001b[43mpil_kwargs\u001b[49m\u001b[43m)\u001b[49m\n",
      "File \u001b[0;32m/appl/python-3.11/lib/python3.11/site-packages/matplotlib/image.py:1664\u001b[0m, in \u001b[0;36mimsave\u001b[0;34m(fname, arr, vmin, vmax, cmap, format, origin, dpi, metadata, pil_kwargs)\u001b[0m\n\u001b[1;32m   1662\u001b[0m pil_kwargs\u001b[38;5;241m.\u001b[39msetdefault(\u001b[38;5;124m\"\u001b[39m\u001b[38;5;124mformat\u001b[39m\u001b[38;5;124m\"\u001b[39m, \u001b[38;5;28mformat\u001b[39m)\n\u001b[1;32m   1663\u001b[0m pil_kwargs\u001b[38;5;241m.\u001b[39msetdefault(\u001b[38;5;124m\"\u001b[39m\u001b[38;5;124mdpi\u001b[39m\u001b[38;5;124m\"\u001b[39m, (dpi, dpi))\n\u001b[0;32m-> 1664\u001b[0m \u001b[43mimage\u001b[49m\u001b[38;5;241;43m.\u001b[39;49m\u001b[43msave\u001b[49m\u001b[43m(\u001b[49m\u001b[43mfname\u001b[49m\u001b[43m,\u001b[49m\u001b[43m \u001b[49m\u001b[38;5;241;43m*\u001b[39;49m\u001b[38;5;241;43m*\u001b[39;49m\u001b[43mpil_kwargs\u001b[49m\u001b[43m)\u001b[49m\n",
      "File \u001b[0;32m/appl/python-3.11/lib/python3.11/site-packages/PIL/Image.py:2436\u001b[0m, in \u001b[0;36mImage.save\u001b[0;34m(self, fp, format, **params)\u001b[0m\n\u001b[1;32m   2434\u001b[0m         fp \u001b[38;5;241m=\u001b[39m builtins\u001b[38;5;241m.\u001b[39mopen(filename, \u001b[38;5;124m\"\u001b[39m\u001b[38;5;124mr+b\u001b[39m\u001b[38;5;124m\"\u001b[39m)\n\u001b[1;32m   2435\u001b[0m     \u001b[38;5;28;01melse\u001b[39;00m:\n\u001b[0;32m-> 2436\u001b[0m         fp \u001b[38;5;241m=\u001b[39m \u001b[43mbuiltins\u001b[49m\u001b[38;5;241;43m.\u001b[39;49m\u001b[43mopen\u001b[49m\u001b[43m(\u001b[49m\u001b[43mfilename\u001b[49m\u001b[43m,\u001b[49m\u001b[43m \u001b[49m\u001b[38;5;124;43m\"\u001b[39;49m\u001b[38;5;124;43mw+b\u001b[39;49m\u001b[38;5;124;43m\"\u001b[39;49m\u001b[43m)\u001b[49m\n\u001b[1;32m   2438\u001b[0m \u001b[38;5;28;01mtry\u001b[39;00m:\n\u001b[1;32m   2439\u001b[0m     save_handler(\u001b[38;5;28mself\u001b[39m, fp, filename)\n",
      "\u001b[0;31mFileNotFoundError\u001b[0m: [Errno 2] No such file or directory: 'figures/2_modeling/random_forest_majorclass_confusion_matrix.png'"
     ]
    },
    {
     "data": {
      "image/png": "[encoded data removed]",
      "text/plain": [
       "<Figure size 1000x900 with 2 Axes>"
      ]
     },
     "metadata": {},
     "output_type": "display_data"
    }
   ],
   "source": [
    "from sklearn.metrics import confusion_matrix, ConfusionMatrixDisplay\n",
    "\n",
    "# Generate the confusion matrix\n",
    "cm = confusion_matrix(y_test, y_pred_rf, labels=rf_classifier.classes_)\n",
    "\n",
    "# Make percentage\n",
    "cm_normalized = cm.astype('float') / cm.sum(axis=1)[:, np.newaxis]\n",
    "\n",
    "plt.figure(figsize=(10, 9))\n",
    "sns.heatmap(cm_normalized, annot=True, fmt='.1%', cmap='Blues', \n",
    "            xticklabels=le.inverse_transform(rf_classifier.classes_), \n",
    "            yticklabels=le.inverse_transform(rf_classifier.classes_))\n",
    "\n",
    "plt.xlabel('Predicted Label')\n",
    "plt.ylabel('True Label')\n",
    "plt.title('Confusion Matrix (Random Forest)')\n",
    "\n",
    "plt.savefig(f\"02_Modeling/random_forest_{analysis_name}_confusion_matrix\", bbox_inches='tight')\n",
    "plt.show()"
   ]
  },
  {
   "cell_type": "code",
   "execution_count": null,
   "metadata": {},
   "outputs": [],
   "source": [
    "adata.obs['majorclass'].value_counts()"
   ]
  },
  {
   "cell_type": "code",
   "execution_count": null,
   "metadata": {
    "collapsed": true,
    "jupyter": {
     "outputs_hidden": true,
     "source_hidden": true
    }
   },
   "outputs": [],
   "source": [
    "# Get feature importances\n",
    "feature_importances_rf = rf_classifier.feature_importances_\n",
    "number_of_features = 20\n",
    "\n",
    "# Create a DataFrame for better visualization\n",
    "feature_importance_rf_df = pd.DataFrame({\n",
    "    'Ensembl': adata.var_names,\n",
    "    'Marker': adata.var['feature_name'].astype(str),\n",
    "    'Importance': feature_importances_rf\n",
    "})\n",
    "\n",
    "feature_importance_subclass_rf_df = feature_importance_rf_df.sort_values(by='Importance', ascending=False).reset_index(drop=True)\n",
    "\n",
    "# Plot the top 20 positive important features overall\n",
    "plt.figure(figsize=(10, 8))\n",
    "sns.barplot(x='Importance', y='Marker', data=feature_importance_rf_df.head(number_of_features))\n",
    "plt.title(f'Top {number_of_features} Important Features Overall')\n",
    "\n",
    "plt.savefig(f'02_Modeling/random_forest_top_{number_of_features}_feature_importance.pdf')\n",
    "plt.show()"
   ]
  },
  {
   "cell_type": "code",
   "execution_count": null,
   "metadata": {
    "collapsed": true,
    "jupyter": {
     "outputs_hidden": true
    },
    "scrolled": true
   },
   "outputs": [],
   "source": [
    "feature_importance_rf_df"
   ]
  },
  {
   "cell_type": "code",
   "execution_count": null,
   "metadata": {
    "collapsed": true,
    "jupyter": {
     "outputs_hidden": true,
     "source_hidden": true
    }
   },
   "outputs": [],
   "source": [
    "# Plot the distribution of feature importances\n",
    "plt.figure(figsize=(10, 6))\n",
    "sns.histplot(feature_importance_rf_df['Importance'], bins=30, kde=True)\n",
    "plt.title('Distribution of Feature Importances')\n",
    "plt.xlabel('Importance')\n",
    "plt.ylabel('Frequency')\n",
    "\n",
    "plt.savefig('02_Modeling/random_forest_feature_importance_distribution.pdf')\n",
    "plt.show()"
   ]
  },
  {
   "cell_type": "code",
   "execution_count": null,
   "metadata": {
    "collapsed": true,
    "jupyter": {
     "outputs_hidden": true,
     "source_hidden": true
    }
   },
   "outputs": [],
   "source": [
    "# Calculate the cumulative sum of importances\n",
    "feature_importance_rf_df['Cumulative Importance'] = feature_importance_rf_df['Importance'].cumsum()\n",
    "\n",
    "# Plot the cumulative sum\n",
    "plt.figure(figsize=(10, 8))\n",
    "sns.lineplot(data=feature_importance_rf_df, x=feature_importance_rf_df.index, y='Cumulative Importance')\n",
    "plt.axhline(y=0.9, color='r', linestyle='--')  # Line at 90% cumulative importance\n",
    "plt.xticks(ticks=range(0, len(feature_importance_rf_df), 500))  # Set x-ticks at increments of 100\n",
    "plt.xlabel('Feature Rank (sorted by importance)')\n",
    "plt.ylabel('Cumulative Importance')\n",
    "plt.title('Cumulative Sum of Feature Importances')\n",
    "\n",
    "plt.savefig('02_Modeling/random_forest_cumulative_feature_importance_distribution.pdf')\n",
    "plt.show()"
   ]
  },
  {
   "cell_type": "code",
   "execution_count": null,
   "metadata": {
    "collapsed": true,
    "jupyter": {
     "outputs_hidden": true,
     "source_hidden": true
    },
    "scrolled": true
   },
   "outputs": [],
   "source": [
    "# Not run\n",
    "\n",
    "# For class-specific analysis, you can inspect trees or use permutation importance\n",
    "# Using permutation importance from sklearn\n",
    "\n",
    "from sklearn.inspection import permutation_importance\n",
    "if False:\n",
    "    result = permutation_importance(rf_classifier, X_test, y_test, n_repeats=10, random_state=42, n_jobs=2)\n",
    "\n",
    "    perm_sorted_idx = result.importances_mean.argsort()\n",
    "\n",
    "    # Plot permutation importance for the top 20 features\n",
    "    plt.figure(figsize=(10, 8))\n",
    "    plt.boxplot(result.importances[perm_sorted_idx].T, vert=False, labels=np.array(adata.var_names)[perm_sorted_idx])\n",
    "    plt.title('Permutation Importance (test set)')\n",
    "    plt.show()"
   ]
  },
  {
   "cell_type": "markdown",
   "metadata": {
    "jupyter": {
     "source_hidden": true
    }
   },
   "source": [
    "### One-vs-Rest Logistic Regression\n",
    "Want to get feature importance per class"
   ]
  },
  {
   "cell_type": "code",
   "execution_count": null,
   "metadata": {
    "collapsed": true,
    "jupyter": {
     "outputs_hidden": true,
     "source_hidden": true
    },
    "scrolled": true
   },
   "outputs": [],
   "source": [
    "from sklearn.linear_model import LogisticRegression\n",
    "\n",
    "# Initialize the One-vs-Rest Logistic Regression model\n",
    "ovr_classifier = LogisticRegression(multi_class='ovr', max_iter=1000, random_state=42)\n",
    "\n",
    "# Train the classifier\n",
    "ovr_classifier.fit(X_train, y_train)"
   ]
  },
  {
   "cell_type": "code",
   "execution_count": null,
   "metadata": {},
   "outputs": [],
   "source": [
    "model_filename = f'02_Modeling/{analysis_name}/2_ovr_LogReg_{analysis_name}_classifier.pkl'\n",
    "joblib.dump(ovr_classifier, model_filename)"
   ]
  },
  {
   "cell_type": "code",
   "execution_count": null,
   "metadata": {
    "collapsed": true,
    "jupyter": {
     "outputs_hidden": true
    },
    "scrolled": true
   },
   "outputs": [],
   "source": [
    "# Validate\n",
    "y_pred_ovr = ovr_classifier.predict(X_test)\n",
    "\n",
    "# Print classification report\n",
    "validation_report = classification_report(y_test, y_pred_ovr, target_names=le.classes_)\n",
    "print(validation_report)\n",
    "with open(f\"02_Modeling/{analysis_name}/2_{analysis_name}_validation_report.txt\", \"w\") as report_file:\n",
    "    report_file.write(validation_report)"
   ]
  },
  {
   "cell_type": "code",
   "execution_count": null,
   "metadata": {
    "collapsed": true,
    "jupyter": {
     "outputs_hidden": true,
     "source_hidden": true
    },
    "scrolled": true
   },
   "outputs": [],
   "source": [
    "# Get class-specific coefficients\n",
    "class_coefficients = ovr_classifier.coef_\n",
    "num_classes = len(le.classes_)\n",
    "\n",
    "# Determine the grid size (e.g., 2 rows, num_classes / 2 columns)\n",
    "nrows = (num_classes // 2) + (num_classes % 2)\n",
    "ncols = 2\n",
    "\n",
    "# Create a figure with subplots\n",
    "fig, axes = plt.subplots(nrows=nrows, ncols=ncols, figsize=(15, 5 * nrows))\n",
    "axes = axes.flatten()  # Flatten the 2D array of axes to 1D\n",
    "\n",
    "# Plot the most positively important features for each class in a grid\n",
    "top_features_ovr = pd.DataFrame(columns=['Name', 'Major_Name', 'Ensembl', 'Marker', 'Coefficient'])\n",
    "for idx, class_name in enumerate(le.classes_):\n",
    "    coefficients = class_coefficients[idx]\n",
    "    all_feature_importance_ovr_df = pd.DataFrame({\n",
    "        'Name': class_name,\n",
    "        'Major_Name': class_name,\n",
    "        'Ensembl': adata.var_names,\n",
    "        'Marker': adata.var['feature_name'].astype(str),  # Ensure feature_name is string\n",
    "        'Coefficient': coefficients\n",
    "    })\n",
    "    feature_importance_ovr_df = all_feature_importance_ovr_df.sort_values(by='Coefficient', ascending=False).head(number_of_features)\n",
    "    top_features_ovr = pd.concat([top_features_ovr, feature_importance_ovr_df])\n",
    "\n",
    "    # Plot the top 20 important features for each class\n",
    "    sns.barplot(ax=axes[idx], x='Coefficient', y='Marker', data=feature_importance_ovr_df)\n",
    "    axes[idx].set_title(f'Top {number_of_features} Positive Important Features for Class: {class_name}')\n",
    "\n",
    "# Remove any unused subplots\n",
    "for ax in axes[num_classes:]:\n",
    "    ax.remove()\n",
    "\n",
    "plt.tight_layout()\n",
    "\n",
    "plt.savefig(f'02_Modeling/ovr_LogReg_{analysis_name}_positive_feature_importance.pdf')\n",
    "plt.show()"
   ]
  },
  {
   "cell_type": "code",
   "execution_count": null,
   "metadata": {
    "collapsed": true,
    "jupyter": {
     "outputs_hidden": true,
     "source_hidden": true
    }
   },
   "outputs": [],
   "source": [
    "# Plot negatively correlated features as well\n",
    "fig, axes = plt.subplots(nrows=nrows, ncols=ncols, figsize=(15, 5 * nrows))\n",
    "axes = axes.flatten()  # Flatten the 2D array of axes to 1D\n",
    "\n",
    "for idx, class_name in enumerate(le.classes_):\n",
    "    coefficients = class_coefficients[idx]\n",
    "    all_feature_importance_ovr_df = pd.DataFrame({\n",
    "        'Name': class_name,\n",
    "        'Major_Name': class_name,\n",
    "        'Ensembl': adata.var_names,\n",
    "        'Marker': adata.var['feature_name'].astype(str),  # Ensure feature_name is string\n",
    "        'Coefficient': coefficients\n",
    "    })\n",
    "    feature_importance_ovr_df = all_feature_importance_ovr_df.sort_values(by='Coefficient', ascending=True).head(number_of_features)\n",
    "    top_features_ovr = pd.concat([top_features_ovr, feature_importance_ovr_df])\n",
    "    \n",
    "    # Plot the top 20 important features for each class\n",
    "    sns.barplot(ax=axes[idx], x='Coefficient', y='Marker', data=feature_importance_ovr_df)\n",
    "    axes[idx].set_title(f'Top {number_of_features} Negative Important Features for Class: {class_name}')\n",
    "\n",
    "# Remove any unused subplots\n",
    "for ax in axes[num_classes:]:\n",
    "    ax.remove()\n",
    "\n",
    "plt.tight_layout()\n",
    "\n",
    "plt.savefig(f'02_Modeling/ovr_LogReg_{analysis_name}_negative_feature_importance.pdf')\n",
    "plt.show()"
   ]
  },
  {
   "cell_type": "code",
   "execution_count": null,
   "metadata": {},
   "outputs": [],
   "source": [
    "top_features_df.to_csv(f'02_Modeling/{analysis_name}/2_ovr_LogReg_{analysis_name}_AbsTop{number_of_features}Markers.txt', sep = '\\t', index=False)"
   ]
  },
  {
   "cell_type": "markdown",
   "metadata": {},
   "source": [
    "## Cell Sub-Type Classification"
   ]
  },
  {
   "cell_type": "markdown",
   "metadata": {},
   "source": [
    "Comparing author_cell_type vs subclass_label. Maybe ask Yuyan what each means"
   ]
  },
  {
   "cell_type": "code",
   "execution_count": null,
   "metadata": {
    "collapsed": true,
    "jupyter": {
     "outputs_hidden": true
    },
    "scrolled": true
   },
   "outputs": [],
   "source": [
    "adata.obs['author_cell_type'].value_counts()"
   ]
  },
  {
   "cell_type": "code",
   "execution_count": null,
   "metadata": {
    "collapsed": true,
    "jupyter": {
     "outputs_hidden": true
    }
   },
   "outputs": [],
   "source": [
    "adata.obs['subclass_label'].value_counts()"
   ]
  },
  {
   "cell_type": "code",
   "execution_count": null,
   "metadata": {},
   "outputs": [],
   "source": [
    "analysis_name = \"minorclass\""
   ]
  },
  {
   "cell_type": "code",
   "execution_count": null,
   "metadata": {},
   "outputs": [],
   "source": [
    "minor_to_major_filename = f'02_Modeling/2_minorToMajorClass.txt'\n",
    "adata.obs[[\"author_cell_type\", \"majorclass\"]].drop_duplicates().to_csv(minor_to_major_filename, sep = '\\t', index = False)\n",
    "minor_to_major = pd.read_csv(minor_to_major_filename, sep = '\\t')"
   ]
  },
  {
   "cell_type": "markdown",
   "metadata": {},
   "source": [
    "### Random Forest Classifier"
   ]
  },
  {
   "cell_type": "code",
   "execution_count": null,
   "metadata": {},
   "outputs": [],
   "source": [
    "# New target vector\n",
    "y_subclass = adata.obs['author_cell_type']\n",
    "\n",
    "# Encode the target variable\n",
    "le_subclass = LabelEncoder()\n",
    "y_encoded_subclass = le_subclass.fit_transform(y_subclass)\n",
    "\n",
    "X_train, X_test, y_train_subclass, y_test_subclass = train_test_split(\n",
    "    X, y_encoded_subclass, test_size=0.2, random_state=42)"
   ]
  },
  {
   "cell_type": "code",
   "execution_count": null,
   "metadata": {},
   "outputs": [],
   "source": [
    "# Initialize and Train the classifier\n",
    "rf_classifier_subclass = RandomForestClassifier(n_estimators=100, random_state=42)\n",
    "rf_classifier_subclass.fit(X_train, y_train_subclass)"
   ]
  },
  {
   "cell_type": "code",
   "execution_count": null,
   "metadata": {},
   "outputs": [],
   "source": [
    "# Validate\n",
    "y_pred_subclass_rf = rf_classifier_subclass.predict(X_test)"
   ]
  },
  {
   "cell_type": "code",
   "execution_count": null,
   "metadata": {
    "collapsed": true,
    "jupyter": {
     "outputs_hidden": true
    },
    "scrolled": true
   },
   "outputs": [],
   "source": [
    "# Ensure target names match the encoded classes\n",
    "target_names = le_subclass.inverse_transform(np.unique(y_test_subclass))\n",
    "\n",
    "# Print classification report\n",
    "validation_report = classification_report(y_test_subclass, y_pred_subclass_rf, target_names=target_names)\n",
    "print(validation_report)\n",
    "with open(f\"02_Modeling/{analysis_name}/2_rf_{analysis_name}_validation_report.txt\", \"w\") as report_file:\n",
    "    report_file.write(validation_report)"
   ]
  },
  {
   "cell_type": "code",
   "execution_count": null,
   "metadata": {
    "scrolled": true
   },
   "outputs": [],
   "source": [
    "# Save the Model and its LabelEncoder\n",
    "model_filename = f'02_Modeling/{analysis_name}/2_rf_{analysis_name}_classifier.pkl'\n",
    "joblib.dump(rf_classifier_subclass, model_filename)\n",
    "\n",
    "le_filename = f'02_Modeling/{analysis_name}/le_{analysis_name}.pkl'\n",
    "joblib.dump(le_subclass, le_filename)"
   ]
  },
  {
   "cell_type": "code",
   "execution_count": null,
   "metadata": {
    "collapsed": true,
    "jupyter": {
     "outputs_hidden": true,
     "source_hidden": true
    }
   },
   "outputs": [],
   "source": [
    "cm = confusion_matrix(y_test, y_pred_subclass_rf, labels=rf_classifier.classes_)\n",
    "cm_normalized = cm.astype('float') / cm.sum(axis=1)[:, np.newaxis]\n",
    "\n",
    "# Plot the confusion matrix\n",
    "plt.figure(figsize=(10, 9))\n",
    "sns.heatmap(cm_normalized, cmap='Blues', \n",
    "            xticklabels=le.inverse_transform(rf_classifier_subclass.classes_), \n",
    "            yticklabels=le.inverse_transform(rf_classifier_subclass.classes_))\n",
    "\n",
    "plt.xlabel('Predicted Label')\n",
    "plt.ylabel('True Label')\n",
    "plt.title('Confusion Matrix Subclass (Random Forest)')\n",
    "\n",
    "plt.savefig(f\"02_Modeling/random_forest_{analysis_name}_confusion_matrix\", bbox_inches='tight')\n",
    "plt.show()"
   ]
  },
  {
   "cell_type": "code",
   "execution_count": null,
   "metadata": {
    "collapsed": true,
    "jupyter": {
     "outputs_hidden": true,
     "source_hidden": true
    },
    "scrolled": true
   },
   "outputs": [],
   "source": [
    "# Testing model manually\n",
    "\n",
    "# Define the index of the cell you want to test\n",
    "cell_index = 1025  # Change this to the desired cell index\n",
    "\n",
    "# Extract the single cell's features\n",
    "single_cell = X[cell_index].reshape(1, -1)\n",
    "\n",
    "# Predict the log-probabilities for the single cell\n",
    "log_proba = rf_classifier_subclass.predict_log_proba(single_cell)\n",
    "\n",
    "# Get the top 10 classes with the highest log-probabilities\n",
    "top_10_indices = np.argsort(log_proba[0])[-10:][::-1]\n",
    "top_10_log_proba = log_proba[0][top_10_indices]\n",
    "top_10_classes = le_subclass.inverse_transform(top_10_indices)\n",
    "\n",
    "# Predict the class for the single cell\n",
    "predicted_class_encoded = rf_classifier_subclass.predict(single_cell)\n",
    "\n",
    "# Decode the predicted class\n",
    "predicted_class = le_subclass.inverse_transform(predicted_class_encoded)\n",
    "\n",
    "# Get the true class for the single cell\n",
    "true_class = y_subclass.iloc[cell_index]\n",
    "\n",
    "# Print the result\n",
    "print(f'Predicted class for cell index {cell_index}: {predicted_class[0]}')\n",
    "print(f'True class for cell index {cell_index}: {true_class}')\n",
    "\n",
    "# Print the top 10 log-probabilities for each class\n",
    "print(f'Top 10 log-probabilities for cell index {cell_index}:')\n",
    "for class_name, log_prob in zip(top_10_classes, top_10_log_proba):\n",
    "    print(f'Class: {class_name}, Log-probability: {log_prob:.4f}')"
   ]
  },
  {
   "cell_type": "code",
   "execution_count": null,
   "metadata": {
    "collapsed": true,
    "jupyter": {
     "outputs_hidden": true,
     "source_hidden": true
    }
   },
   "outputs": [],
   "source": [
    "from sklearn.tree import _tree, export_text\n",
    "\n",
    "# Extract the single cell's features\n",
    "single_cell = X[cell_index].reshape(1, -1)\n",
    "\n",
    "# Select the most important tree (for example, the first tree)\n",
    "tree_index = 0  # Change this to select a different tree\n",
    "tree = rf_classifier_subclass.estimators_[tree_index]\n",
    "\n",
    "# Get the decision path for the single cell in the selected tree\n",
    "node_indicator = tree.decision_path(single_cell)\n",
    "leaf_id = tree.apply(single_cell)\n",
    "\n",
    "# Extract the feature and threshold information\n",
    "feature = tree.tree_.feature\n",
    "threshold = tree.tree_.threshold\n",
    "\n",
    "# Get the node indices along the decision path\n",
    "node_index = node_indicator.indices[node_indicator.indptr[0]:node_indicator.indptr[1]]\n",
    "\n",
    "# Print the decision path\n",
    "print(f'Decision path for cell index {cell_index} in tree {tree_index}:')\n",
    "for node_id in node_index:\n",
    "    if leaf_id[0] == node_id:\n",
    "        print(f\"Node {node_id}: leaf node.\")\n",
    "    else:\n",
    "        # Get feature name (gene) and threshold\n",
    "        feature_name = adata.var['feature_name'][feature[node_id]]\n",
    "        threshold_value = threshold[node_id]\n",
    "        if single_cell[0, feature[node_id]] <= threshold_value:\n",
    "            threshold_sign = \"<=\"\n",
    "        else:\n",
    "            threshold_sign = \">\"\n",
    "        print(f\"Node {node_id}: split on {feature_name} {threshold_sign} {threshold_value:.4f}\")\n",
    "\n",
    "# Optional: Print the text representation of the tree for reference\n",
    "tree_rules = export_text(tree, feature_names=adata.var['feature_name'])\n",
    "print(tree_rules)"
   ]
  },
  {
   "cell_type": "code",
   "execution_count": null,
   "metadata": {
    "collapsed": true,
    "jupyter": {
     "outputs_hidden": true,
     "source_hidden": true
    }
   },
   "outputs": [],
   "source": [
    "# Get feature importances\n",
    "feature_importances_subclass_rf = rf_classifier_subclass.feature_importances_\n",
    "\n",
    "# Create a DataFrame for better visualization\n",
    "feature_importance_subclass_rf_df = pd.DataFrame({\n",
    "    'Ensembl': adata.var_names,\n",
    "    'Marker': adata.var['feature_name'].astype(str),  # Ensure feature_name is string\n",
    "    'Importance': feature_importances_subclass_rf\n",
    "})\n",
    "\n",
    "feature_importance_subclass_rf_df = feature_importance_subclass_rf_df.sort_values(\n",
    "    by='Importance', ascending=False).reset_index(drop=True)\n",
    "\n",
    "# Plot the top 20 important features overall\n",
    "plt.figure(figsize=(10, 8))\n",
    "sns.barplot(x='Importance', y='Marker', data=feature_importance_subclass_rf_df.head(number_of_features))\n",
    "plt.title(f'Top 20 Important Features Random Forest {analysis_name}')\n",
    "\n",
    "plt.savefig(f'02_Modeling/random_forest_{analysis_name}_top_{number_of_features}_feature_importance')\n",
    "plt.show()"
   ]
  },
  {
   "cell_type": "code",
   "execution_count": null,
   "metadata": {
    "collapsed": true,
    "jupyter": {
     "outputs_hidden": true
    }
   },
   "outputs": [],
   "source": [
    "feature_importance_subclass_rf_df"
   ]
  },
  {
   "cell_type": "code",
   "execution_count": null,
   "metadata": {
    "collapsed": true,
    "jupyter": {
     "outputs_hidden": true,
     "source_hidden": true
    }
   },
   "outputs": [],
   "source": [
    "# Plot the distribution of feature importances\n",
    "plt.figure(figsize=(10, 6))\n",
    "sns.histplot(feature_importance_subclass_rf_df['Importance'], bins=30, kde=True)\n",
    "plt.title('Distribution of Feature Importances Random Forest Subclass')\n",
    "plt.xlabel('Importance')\n",
    "plt.ylabel('Frequency')\n",
    "\n",
    "plt.savefig(f'02_Modeling/random_forest_{analysis_name}_feature_importance_distribution.pdf')\n",
    "plt.show()"
   ]
  },
  {
   "cell_type": "code",
   "execution_count": null,
   "metadata": {
    "collapsed": true,
    "jupyter": {
     "outputs_hidden": true,
     "source_hidden": true
    }
   },
   "outputs": [],
   "source": [
    "# Calculate the cumulative sum of importances\n",
    "feature_importance_subclass_rf_df['Cumulative Importance'] = feature_importance_subclass_rf_df['Importance'].cumsum()\n",
    "\n",
    "# Plot the cumulative sum\n",
    "plt.figure(figsize=(10, 8))\n",
    "sns.lineplot(data=feature_importance_subclass_rf_df, x=feature_importance_subclass_rf_df.index, y='Cumulative Importance')\n",
    "plt.axhline(y=0.9, color='r', linestyle='--')  # Line at 90% cumulative importance\n",
    "plt.xticks(ticks=range(0, len(feature_importance_subclass_rf_df), 500))  # Set x-ticks at increments of 100\n",
    "plt.xlabel('Feature Rank (sorted by importance)')\n",
    "plt.ylabel('Cumulative Importance')\n",
    "plt.title('Cumulative Sum of Feature Importances Subclass')\n",
    "\n",
    "plt.savefig(f'02_Modeling/random_forest_{analysis_name}_cumulative_feature_importance_distribution.pdf')\n",
    "plt.show()"
   ]
  },
  {
   "cell_type": "markdown",
   "metadata": {},
   "source": [
    "### One vs Rest"
   ]
  },
  {
   "cell_type": "code",
   "execution_count": null,
   "metadata": {},
   "outputs": [],
   "source": [
    "# Initialize and Train the One-vs-Rest Logistic Regression model\n",
    "ovr_classifier_subclass = LogisticRegression(multi_class='ovr', max_iter=1000, random_state=42)\n",
    "ovr_classifier_subclass.fit(X_train, y_train_subclass)"
   ]
  },
  {
   "cell_type": "code",
   "execution_count": null,
   "metadata": {
    "collapsed": true,
    "jupyter": {
     "outputs_hidden": true
    }
   },
   "outputs": [],
   "source": [
    "# Validate\n",
    "y_pred_subclass_ovr = ovr_classifier.predict(X_test)\n",
    "\n",
    "validation_report = classification_report(y_test_subclass, y_pred_subclass_ovr, target_names=le_subclass.classes_)\n",
    "print(validation_report)\n",
    "with open(f\"02_Modeling/{analysis_name}/2_ovr_LogReg_{analysis_name}_validation_report.txt\", \"w\") as report_file:\n",
    "    report_file.write(validation_report)"
   ]
  },
  {
   "cell_type": "code",
   "execution_count": null,
   "metadata": {},
   "outputs": [],
   "source": [
    "# Generate the confusion matrix\n",
    "cm = confusion_matrix(y_test_subclass, y_pred_subclass_ovr, labels=ovr_classifier_subclass.classes_)\n",
    "cm_normalized = cm.astype('float') / cm.sum(axis=1)[:, np.newaxis]\n",
    "plt.figure(figsize=(10, 9))\n",
    "sns.heatmap(cm_normalized, annot=True, fmt='.1%', cmap='Blues', \n",
    "            xticklabels=le_subclass.inverse_transform(ovr_classifier_subclass.classes_), \n",
    "            yticklabels=le_subclass.inverse_transform(ovr_classifier_subclass.classes_))\n",
    "plt.xlabel('Predicted Label')\n",
    "plt.ylabel('True Label')\n",
    "plt.title(f'{analysis_name}: {100 * cm.diagonal().sum() / cm.sum()}% Accuracy')\n",
    "plt.savefig(f\"02_Modeling/confusion_matrix_{analysis_name}\", bbox_inches='tight')\n",
    "plt.show()"
   ]
  },
  {
   "cell_type": "code",
   "execution_count": null,
   "metadata": {
    "collapsed": true,
    "jupyter": {
     "outputs_hidden": true
    }
   },
   "outputs": [],
   "source": [
    "# Get class-specific coefficients\n",
    "class_coefficients = ovr_classifier_subclass.coef_\n",
    "num_classes = len(le_subclass.classes_)\n",
    "\n",
    "# Determine the grid size (e.g., 2 rows, num_classes / 2 columns)\n",
    "nrows = (num_classes // 2) + (num_classes % 2)\n",
    "ncols = 2\n",
    "\n",
    "# Create a figure with subplots\n",
    "fig, axes = plt.subplots(nrows=nrows, ncols=ncols, figsize=(15, 5 * nrows))\n",
    "axes = axes.flatten()  # Flatten the 2D array of axes to 1D\n",
    "\n",
    "top_features_subclass = pd.DataFrame(columns=['Name', 'Major_Name', 'Ensembl', 'Marker', 'Coefficient'])\n",
    "for idx, class_name in enumerate(le.classes_):\n",
    "    coefficients = class_coefficients[idx]\n",
    "    all_feature_importance_ovr_df = pd.DataFrame({\n",
    "        'Name': class_name,\n",
    "        'Major_Name': minor_to_major.loc[class_name],\n",
    "        'Ensembl': adata.var_names,\n",
    "        'Marker': adata.var['feature_name'].astype(str),  # Ensure feature_name is string\n",
    "        'Coefficient': coefficients\n",
    "    })\n",
    "    feature_importance_ovr_df_pos = all_feature_importance_ovr_df.sort_values(by='Coefficient', ascending=False).head(number_of_features)\n",
    "    feature_importance_ovr_df_neg = all_feature_importance_ovr_df.sort_values(by='Coefficient', ascending=True).head(number_of_features)\n",
    "    top_features_subclass = pd.concat([top_features_subclass, feature_importance_ovr_df_pos, feature_importance_ovr_df_neg], ignore_index=True)\n",
    "    \n",
    "    # Plot the top 20 important features for each class\n",
    "    sns.barplot(ax=axes[idx], x='Coefficient', y='Marker', data=feature_importance_ovr_df_pos)\n",
    "    axes[idx].set_title(f'Top {number_of_features} Important Features for Class: {class_name}')\n",
    "\n",
    "# Remove any unused subplots\n",
    "for ax in axes[num_classes:]:\n",
    "    ax.remove()\n",
    "\n",
    "plt.tight_layout()\n",
    "\n",
    "plt.savefig(f'02_Modeling/ovr_LogReg_{analysis_name}_positive_feature_importance.pdf')\n",
    "plt.show()"
   ]
  },
  {
   "cell_type": "code",
   "execution_count": null,
   "metadata": {},
   "outputs": [],
   "source": [
    "top_features_subclass.to_csv(f'02_Modeling/{analysis_name}/2_ovr_LogReg_{analysis_name}_AbsTop{number_of_features}Markers.txt', sep = '\\t', index=False)"
   ]
  },
  {
   "cell_type": "markdown",
   "metadata": {},
   "source": [
    "## Quality of Life"
   ]
  },
  {
   "cell_type": "code",
   "execution_count": null,
   "metadata": {},
   "outputs": [],
   "source": [
    "# Buffer"
   ]
  },
  {
   "cell_type": "code",
   "execution_count": null,
   "metadata": {},
   "outputs": [],
   "source": [
    "# Don't run below unless you want to "
   ]
  },
  {
   "cell_type": "code",
   "execution_count": null,
   "metadata": {},
   "outputs": [],
   "source": [
    "if False:\n",
    "    import dill\n",
    "    # Save the entire session\n",
    "    filename = '02_Modeling/modeling_notebook_state.pkl'\n",
    "    with open(filename, 'wb') as f:\n",
    "        dill.dump_session(f)"
   ]
  },
  {
   "cell_type": "code",
   "execution_count": null,
   "metadata": {
    "collapsed": true,
    "jupyter": {
     "outputs_hidden": true
    },
    "scrolled": true
   },
   "outputs": [],
   "source": [
    "if False:\n",
    "    import dill\n",
    "    # Load the saved session\n",
    "    filename = '02_Modeling/modeling_notebook_state.pkl'\n",
    "    with open(filename, 'rb') as f:\n",
    "        dill.load_session(f)"
   ]
  }
 ],
 "metadata": {
  "kernelspec": {
   "display_name": "Python 3",
   "language": "python",
   "name": "python3"
  },
  "language_info": {
   "codemirror_mode": {
    "name": "ipython",
    "version": 3
   },
   "file_extension": ".py",
   "mimetype": "text/x-python",
   "name": "python",
   "nbconvert_exporter": "python",
   "pygments_lexer": "ipython3",
   "version": "3.11.7"
  }
 },
 "nbformat": 4,
 "nbformat_minor": 4
}
