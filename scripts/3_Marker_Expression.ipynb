{
 "cells": [
  {
   "cell_type": "markdown",
   "id": "ae76e82b",
   "metadata": {},
   "source": [
    "# Marker Determination"
   ]
  },
  {
   "cell_type": "code",
   "execution_count": null,
   "id": "28a028ac",
   "metadata": {},
   "outputs": [],
   "source": [
    "import sklearn as sk\n",
    "import anndata as ad\n",
    "import scanpy as sc \n",
    "import matplotlib.pyplot as plt\n",
    "import pandas as pd\n",
    "import numpy as np\n",
    "import os\n",
    "import joblib\n",
    "\n",
    "sc.settings.n_jobs = -1\n",
    "\n",
    "os.chdir(\"/project/hipaa_ycheng11lab/atlas/CAMR2024/\")\n",
    "\n",
    "number_of_features = 20\n",
    "\n",
    "sc.plotting.DotPlot.DEFAULT_SAVE_PREFIX = \"figures/3_dotplot_\"\n",
    "sc.plotting.DotPlot.DEFAULT_LARGEST_DOT = 200.0"
   ]
  },
  {
   "cell_type": "code",
   "execution_count": null,
   "id": "165314df",
   "metadata": {
    "slideshow": {
     "slide_type": ""
    },
    "tags": []
   },
   "outputs": [],
   "source": [
    "adata = ad.read_h5ad('data/2_camr_modeling_input.h5ad')\n",
    "gene_names = adata.var[\"feature_name\"].astype(str)\n",
    "highly_variable = adata.raw.var['feature_name'].isin(gene_names.tolist())\n",
    "adata"
   ]
  },
  {
   "cell_type": "markdown",
   "id": "22212f02",
   "metadata": {},
   "source": [
    "## Major Class Markers"
   ]
  },
  {
   "cell_type": "code",
   "execution_count": null,
   "id": "5973a9b0-c27e-4280-9882-22f291f7e68c",
   "metadata": {},
   "outputs": [],
   "source": [
    "analysis_name = 'majorclass'"
   ]
  },
  {
   "cell_type": "code",
   "execution_count": null,
   "id": "bee8f6a9",
   "metadata": {
    "jupyter": {
     "source_hidden": true
    }
   },
   "outputs": [],
   "source": [
    "top_features_log_reg = pd.read_csv(f'spreadsheets/2_ovr_LogReg_{analysis_name}_AbsTop{number_of_features}Markers.txt', sep = '\\t')\n",
    "# Only positive features, negative markers are less useful\n",
    "top_features_log_reg_pos = top_features_log_reg[top_features_log_reg['Coefficient'] > 0]\n",
    "top_features_log_reg_pos.index = top_features_log_reg_pos.Gene\n",
    "top_features_log_reg_pos"
   ]
  },
  {
   "cell_type": "code",
   "execution_count": null,
   "id": "a26c8ee0",
   "metadata": {},
   "outputs": [],
   "source": [
    "raw_mean_expression = pd.read_csv(f'spreadsheets/raw_meanExpression_{analysis_name}.txt', sep = '\\t', index_col=0)\n",
    "raw_mean_expression"
   ]
  },
  {
   "cell_type": "code",
   "execution_count": null,
   "id": "4ebd63d3",
   "metadata": {
    "jupyter": {
     "source_hidden": true
    }
   },
   "outputs": [],
   "source": [
    "# Filter based on innate features of the gene itself\n",
    "in_regression = adata.var[\"feature_name\"].astype(str).isin(top_features_log_reg_pos[\"Gene\"])\n",
    "long_enough = adata.var[\"feature_length\"].astype(int) >= 960 # It's a conservative filter\n",
    "\n",
    "keep_genes = long_enough & in_regression\n",
    "kept_gene_names = gene_names[keep_genes.tolist()].tolist()\n",
    "print(len(kept_gene_names), kept_gene_names) # 216 genes"
   ]
  },
  {
   "cell_type": "code",
   "execution_count": null,
   "id": "1fd1c2d2",
   "metadata": {
    "jupyter": {
     "source_hidden": true
    }
   },
   "outputs": [],
   "source": [
    "# Filter based on the filtering criteria\n",
    "# adata.obs.library_platform.unique() shows that this is mix of 4 chemistries, so use strictest?\n",
    "\n",
    "# count_limit = 0.1 # Absolute detection limit\n",
    "count_lowcluster = 4\n",
    "count_highcluster = 100\n",
    "\n",
    "detectable_genes = (raw_mean_expression >= count_lowcluster).sum(axis=0) >= 1\n",
    "optical_crowding_genes = (raw_mean_expression > count_highcluster).sum(axis=0) > 0\n",
    "\n",
    "is_expression_candidate = detectable_genes & (~optical_crowding_genes)\n",
    "\n",
    "expression_candidates = gene_names[is_expression_candidate.tolist()].tolist()\n",
    "print(len(expression_candidates), expression_candidates) # 428 genes"
   ]
  },
  {
   "cell_type": "code",
   "execution_count": null,
   "id": "855b8abb",
   "metadata": {
    "jupyter": {
     "source_hidden": true
    }
   },
   "outputs": [],
   "source": [
    "# Combine gene metadata filtering and gene expression filtering together\n",
    "final_candidates = np.intersect1d(expression_candidates, kept_gene_names)\n",
    "print(len(final_candidates), final_candidates) # 172 genes"
   ]
  },
  {
   "cell_type": "code",
   "execution_count": null,
   "id": "b312e59b",
   "metadata": {},
   "outputs": [],
   "source": [
    "# Save all genes that passed these thresholds\n",
    "ordered_features = top_features_log_reg_pos.loc[final_candidates.tolist()].sort_values(['Major_Name', 'Name'])\n",
    "ordered_features.to_csv(f'spreadsheets/3_ovr_LogReg_{analysis_name}_xeniumFiltered.txt', sep ='\\t', index=False)\n",
    "ordered_features"
   ]
  },
  {
   "cell_type": "code",
   "execution_count": null,
   "id": "9967c1d3",
   "metadata": {},
   "outputs": [],
   "source": [
    "sc.pl.dotplot(adata,\n",
    "              var_names = ordered_features.index,\n",
    "              gene_symbols=\"feature_name\",\n",
    "              groupby = 'majorclass',\n",
    "              categories_order = adata.obs[\"majorclass\"].cat.categories.sort_values(),\n",
    "              vmax = count_lowcluster,\n",
    "              vmin = count_lowcluster / 2,\n",
    "              save = f\"mouseRetina_{analysis_name}_xeniumFiltered.\" +\n",
    "                     f\"{count_lowcluster}-{count_highcluster}.pdf\")"
   ]
  },
  {
   "cell_type": "markdown",
   "id": "436594d4",
   "metadata": {},
   "source": [
    "## Subtype Markers"
   ]
  },
  {
   "cell_type": "code",
   "execution_count": null,
   "id": "ba5490a9-b0b0-4aa1-8ea5-eb6b539d36a5",
   "metadata": {},
   "outputs": [],
   "source": [
    "analysis_name = 'minorclass'"
   ]
  },
  {
   "cell_type": "code",
   "execution_count": null,
   "id": "4c9fa124",
   "metadata": {
    "jupyter": {
     "source_hidden": true
    }
   },
   "outputs": [],
   "source": [
    "top_features_log_reg_sub = pd.read_csv(f'spreadsheets/2_ovr_LogReg_{analysis_name}_AbsTop{number_of_features}Markers.txt', sep = '\\t')\n",
    "top_features_log_reg_pos_sub = top_features_log_reg_sub[top_features_log_reg_sub['Coefficient'] > 0]\n",
    "top_features_log_reg_pos_sub.index = top_features_log_reg_pos_sub.Gene\n",
    "top_features_log_reg_pos_sub"
   ]
  },
  {
   "cell_type": "code",
   "execution_count": null,
   "id": "8fe28180",
   "metadata": {},
   "outputs": [],
   "source": [
    "raw_mean_minorclass_expression = pd.read_csv(f'spreadsheets/raw_meanExpression_{analysis_name}.txt', sep = '\\t', index_col=0)\n",
    "raw_mean_minorclass_expression"
   ]
  },
  {
   "cell_type": "code",
   "execution_count": null,
   "id": "75a08109",
   "metadata": {
    "jupyter": {
     "source_hidden": true
    }
   },
   "outputs": [],
   "source": [
    "# Filter based on innate features of the gene itself\n",
    "in_regression = adata.var[\"feature_name\"].astype(str).isin(top_features_log_reg_pos_sub[\"Gene\"])\n",
    "long_enough = adata.var[\"feature_length\"].astype(int) >= 960 # It's a conservative filter\n",
    "\n",
    "keep_genes = long_enough & in_regression\n",
    "kept_gene_names = gene_names[keep_genes.tolist()].tolist()\n",
    "print(len(kept_gene_names), kept_gene_names) # 680 genes"
   ]
  },
  {
   "cell_type": "code",
   "execution_count": null,
   "id": "ce60684e",
   "metadata": {
    "jupyter": {
     "source_hidden": true
    }
   },
   "outputs": [],
   "source": [
    "# Filter based on the filtering criteria\n",
    "# adata.obs.library_platform.unique() # mix of 4 chemistries...\n",
    "\n",
    "# count_limit = 0.1 # Absolute detection limit\n",
    "count_lowcluster = 4\n",
    "count_highcluster = 100\n",
    "\n",
    "detectable_genes = (raw_mean_minorclass_expression >= count_lowcluster).sum(axis=0) >= 1\n",
    "optical_crowding_genes = (raw_mean_minorclass_expression > count_highcluster).sum(axis=0) > 0\n",
    "\n",
    "is_expression_candidate = detectable_genes & (~optical_crowding_genes)\n",
    "\n",
    "expression_candidates = gene_names[is_expression_candidate.tolist()].tolist()\n",
    "print(len(expression_candidates), expression_candidates) # 669 genes"
   ]
  },
  {
   "cell_type": "code",
   "execution_count": null,
   "id": "a660941e",
   "metadata": {
    "jupyter": {
     "source_hidden": true
    }
   },
   "outputs": [],
   "source": [
    "final_candidates = np.intersect1d(expression_candidates, kept_gene_names)\n",
    "print(len(final_candidates), final_candidates) # 479 genes"
   ]
  },
  {
   "cell_type": "code",
   "execution_count": null,
   "id": "9c15bdbb",
   "metadata": {},
   "outputs": [],
   "source": [
    "ordered_features_sub = top_features_log_reg_pos_sub.loc[final_candidates.tolist()].sort_values(['Major_Name', 'Name'])\n",
    "ordered_features_sub.to_csv(f'spreadsheets/3_ovr_LogReg_{analysis_name}_xeniumFiltered.txt', sep ='\\t', index=False)\n",
    "ordered_features_sub"
   ]
  },
  {
   "cell_type": "code",
   "execution_count": null,
   "id": "7931d7d1-7ba3-4999-9eaf-d14e261a6b96",
   "metadata": {
    "jupyter": {
     "source_hidden": true
    }
   },
   "outputs": [],
   "source": [
    "# Memory cleanup for plotting\n",
    "\n",
    "del top_features_log_reg_sub, raw_mean_minorclass_expression, in_regression, long_enough, keep_genes, kept_gene_names, detectable_genes, optical_crowding_genes, is_expression_candidate, expression_candidates, final_candidates\n",
    "\n",
    "adata.raw = None\n",
    "adata.obs = adata.obs.loc[:, [\"author_cell_type\"]]\n",
    "adata.var = adata.var.loc[:, [\"gene_symbols\", \"feature_name\"]]\n",
    "\n",
    "import gc\n",
    "import ctypes\n",
    "gc.collect() # Free memory\n",
    "libc = ctypes.CDLL(\"libc.so.6\") # clearing cache \n",
    "libc.malloc_trim(0)"
   ]
  },
  {
   "cell_type": "code",
   "execution_count": null,
   "id": "ed949be5",
   "metadata": {},
   "outputs": [],
   "source": [
    "# Asking for lots of memory\n",
    "sc.pl.dotplot(adata,\n",
    "              ordered_features_sub.index.unique(),\n",
    "              gene_symbols=\"feature_name\",\n",
    "              groupby = 'author_cell_type',\n",
    "              vmax = count_lowcluster,\n",
    "              vmin = count_lowcluster / 2,\n",
    "              figsize = (40, 2),\n",
    "              save = f\"mouseRetina_{analysis_name}_xeniumFiltered.\" +\n",
    "                     f\"{count_lowcluster}-{count_highcluster}.png\")"
   ]
  },
  {
   "cell_type": "markdown",
   "id": "b656b750",
   "metadata": {},
   "source": [
    "### Subtype Marker Better Plots\n",
    "\n",
    "Requirements:\n",
    "\n",
    "* adata\n",
    "* final_candidates_ordered\n",
    "* final_candidates_ordered_sub\n",
    "* count_lowcluster\n",
    "* count_highcluster"
   ]
  },
  {
   "cell_type": "code",
   "execution_count": 27,
   "id": "5fbc5b96-eee3-4d3f-9f57-ff622a59f1b8",
   "metadata": {},
   "outputs": [],
   "source": [
    "# Run this if starting from scratch!\n",
    "\n",
    "import sklearn as sk\n",
    "import anndata as ad\n",
    "import scanpy as sc \n",
    "import matplotlib.pyplot as plt\n",
    "import pandas as pd\n",
    "import numpy as np\n",
    "import os\n",
    "import joblib\n",
    "\n",
    "sc.settings.n_jobs = -1\n",
    "\n",
    "count_lowcluster = 4\n",
    "count_highcluster = 100\n",
    "analysis_name = 'minorclass'\n",
    "\n",
    "adata = ad.read_h5ad('data/2_camr_modeling_input.h5ad')\n",
    "adata.var.index = adata.var[\"feature_name\"] # subset on genes instead of booleans\n",
    "\n",
    "final_candidates_ordered = pd.read_csv(f'spreadsheets/3_ovr_LogReg_majorclass_xeniumFiltered.txt', sep = '\\t')\n",
    "final_candidates_ordered_sub = pd.read_csv(f'spreadsheets/3_ovr_LogReg_minorclass_xeniumFiltered.txt', sep = '\\t')"
   ]
  },
  {
   "cell_type": "code",
   "execution_count": null,
   "id": "e00e53af",
   "metadata": {},
   "outputs": [],
   "source": [
    "majorclass = final_candidates_ordered[\"Name\"].unique()\n",
    "minorclass = final_candidates_ordered_sub[\"Name\"].unique() # Not necessary\n",
    "print(majorclass, minorclass)"
   ]
  },
  {
   "cell_type": "code",
   "execution_count": 28,
   "id": "de539ca9",
   "metadata": {
    "collapsed": true,
    "jupyter": {
     "outputs_hidden": true
    },
    "scrolled": true
   },
   "outputs": [
    {
     "name": "stderr",
     "output_type": "stream",
     "text": [
      "/tmp/ipykernel_171299/271305905.py:1: FutureWarning: The default of observed=False is deprecated and will be changed to True in a future version of pandas. Pass observed=False to retain current behavior or observed=True to adopt the future default and silence this warning.\n",
      "  subtype_to_type = adata.obs[[\"author_cell_type\", \"majorclass\"]].groupby(\"author_cell_type\").head(1)\n",
      "/tmp/ipykernel_171299/271305905.py:2: FutureWarning: The default of observed=False is deprecated and will be changed to True in a future version of pandas. Pass observed=False to retain current behavior or observed=True to adopt the future default and silence this warning.\n",
      "  subtype_to_type.groupby(\"majorclass\").agg(\"count\").to_csv('spreadsheets/number_of_subtypes.csv')\n"
     ]
    },
    {
     "data": {
      "text/html": [
       "<div>\n",
       "<style scoped>\n",
       "    .dataframe tbody tr th:only-of-type {\n",
       "        vertical-align: middle;\n",
       "    }\n",
       "\n",
       "    .dataframe tbody tr th {\n",
       "        vertical-align: top;\n",
       "    }\n",
       "\n",
       "    .dataframe thead th {\n",
       "        text-align: right;\n",
       "    }\n",
       "</style>\n",
       "<table border=\"1\" class=\"dataframe\">\n",
       "  <thead>\n",
       "    <tr style=\"text-align: right;\">\n",
       "      <th></th>\n",
       "      <th>author_cell_type</th>\n",
       "      <th>majorclass</th>\n",
       "    </tr>\n",
       "  </thead>\n",
       "  <tbody>\n",
       "    <tr>\n",
       "      <th>10x3_Ms_WT_P14_AAACCCAAGGGATCTG-1</th>\n",
       "      <td>RBC</td>\n",
       "      <td>BC</td>\n",
       "    </tr>\n",
       "    <tr>\n",
       "      <th>10x3_Ms_WT_P14_AAACCCAGTAGCTAAA-1</th>\n",
       "      <td>Rod</td>\n",
       "      <td>Rod</td>\n",
       "    </tr>\n",
       "    <tr>\n",
       "      <th>10x3_Ms_WT_P14_AAACCCATCGGCCCAA-1</th>\n",
       "      <td>MG</td>\n",
       "      <td>MG</td>\n",
       "    </tr>\n",
       "    <tr>\n",
       "      <th>10x3_Ms_WT_P14_AAACGAAAGACTCTAC-1</th>\n",
       "      <td>BC6</td>\n",
       "      <td>BC</td>\n",
       "    </tr>\n",
       "    <tr>\n",
       "      <th>10x3_Ms_WT_P14_AAACGAACAATGTTGC-1</th>\n",
       "      <td>BC5A</td>\n",
       "      <td>BC</td>\n",
       "    </tr>\n",
       "    <tr>\n",
       "      <th>...</th>\n",
       "      <td>...</td>\n",
       "      <td>...</td>\n",
       "    </tr>\n",
       "    <tr>\n",
       "      <th>rgc_T8_MPTK_2-CATCGTCGTACAAGCG-1</th>\n",
       "      <td>AC_54</td>\n",
       "      <td>AC</td>\n",
       "    </tr>\n",
       "    <tr>\n",
       "      <th>MouseACS2_CCGTGGAGTGCAACGA-1</th>\n",
       "      <td>AC_53</td>\n",
       "      <td>AC</td>\n",
       "    </tr>\n",
       "    <tr>\n",
       "      <th>MouseACS5_GGTGTTACAGGTCCAC-1</th>\n",
       "      <td>AC_62</td>\n",
       "      <td>AC</td>\n",
       "    </tr>\n",
       "    <tr>\n",
       "      <th>CTRLC57AllOther1_GCATGTACAGTCGTGC-1</th>\n",
       "      <td>Astrocyte</td>\n",
       "      <td>Astrocyte</td>\n",
       "    </tr>\n",
       "    <tr>\n",
       "      <th>CtrlC57Cd45Cd140aR1_AACGTTGTCTATGTGG-1</th>\n",
       "      <td>Microglia(cycling)</td>\n",
       "      <td>Microglia</td>\n",
       "    </tr>\n",
       "  </tbody>\n",
       "</table>\n",
       "<p>136 rows × 2 columns</p>\n",
       "</div>"
      ],
      "text/plain": [
       "                                          author_cell_type majorclass\n",
       "10x3_Ms_WT_P14_AAACCCAAGGGATCTG-1                      RBC         BC\n",
       "10x3_Ms_WT_P14_AAACCCAGTAGCTAAA-1                      Rod        Rod\n",
       "10x3_Ms_WT_P14_AAACCCATCGGCCCAA-1                       MG         MG\n",
       "10x3_Ms_WT_P14_AAACGAAAGACTCTAC-1                      BC6         BC\n",
       "10x3_Ms_WT_P14_AAACGAACAATGTTGC-1                     BC5A         BC\n",
       "...                                                    ...        ...\n",
       "rgc_T8_MPTK_2-CATCGTCGTACAAGCG-1                     AC_54         AC\n",
       "MouseACS2_CCGTGGAGTGCAACGA-1                         AC_53         AC\n",
       "MouseACS5_GGTGTTACAGGTCCAC-1                         AC_62         AC\n",
       "CTRLC57AllOther1_GCATGTACAGTCGTGC-1              Astrocyte  Astrocyte\n",
       "CtrlC57Cd45Cd140aR1_AACGTTGTCTATGTGG-1  Microglia(cycling)  Microglia\n",
       "\n",
       "[136 rows x 2 columns]"
      ]
     },
     "execution_count": 28,
     "metadata": {},
     "output_type": "execute_result"
    }
   ],
   "source": [
    "subtype_to_type = pd.read_csv(f'spreadsheets/conversion_tables/2_minorToMajorClass.txt', sep = '\\t', index_col = 0)\n",
    "subtype_to_type"
   ]
  },
  {
   "cell_type": "code",
   "execution_count": null,
   "id": "c2fffd23-871a-4592-9859-f843491495f6",
   "metadata": {},
   "outputs": [],
   "source": [
    "adata.raw = None\n",
    "adata.obs = adata.obs.loc[:, [\"majorclass\", \"author_cell_type\"]]\n",
    "adata.var = adata.var.loc[:, [\"gene_symbols\", \"feature_name\"]]\n",
    "\n",
    "adata.var.index = adata.var[\"feature_name\"] # subset on genes instead of booleans\n",
    "adata.var_names_make_unique()\n",
    "\n",
    "import gc\n",
    "import ctypes\n",
    "gc.collect() # Free memory\n",
    "libc = ctypes.CDLL(\"libc.so.6\") # clearing cache \n",
    "libc.malloc_trim(0)"
   ]
  },
  {
   "cell_type": "code",
   "execution_count": null,
   "id": "810cb95f",
   "metadata": {},
   "outputs": [],
   "source": [
    "for cell in majorclass:\n",
    "\n",
    "    cell_markers = final_candidates_ordered[final_candidates_ordered == cell].index\n",
    "    subtypes = subtype_to_type.loc[subtype_to_type.majorclass == cell, \"author_cell_type\"].tolist()\n",
    "    subtype_markers = final_candidates_ordered_sub[final_candidates_ordered_sub.isin(subtypes)].index\n",
    "\n",
    "    markers = cell_markers.tolist() + subtype_markers.tolist()\n",
    "\n",
    "    # sc.pl.dotplot throws a fit if there are duplicates\n",
    "    unique_markers = []\n",
    "    for m in markers:\n",
    "        if m not in unique_markers:\n",
    "            unique_markers += [m]\n",
    "\n",
    "    sc.pl.dotplot(adata[adata.obs.majorclass == cell, unique_markers],\n",
    "                  unique_markers,\n",
    "                  gene_symbols=\"feature_name\",\n",
    "                  groupby = 'author_cell_type',\n",
    "                  vmax = count_lowcluster * 3,\n",
    "                  vmin = count_lowcluster - 1,\n",
    "                  show = False,\n",
    "                  save = f\"mouseRetina_{analysis_name}-{cell}_xeniumFiltered.\" +\n",
    "                         f\"{count_lowcluster}-{count_highcluster}.pdf\")"
   ]
  },
  {
   "cell_type": "markdown",
   "id": "6d4236a0-705a-4608-85b8-c1cb2cfd330a",
   "metadata": {},
   "source": [
    "# Scratch"
   ]
  },
  {
   "cell_type": "code",
   "execution_count": null,
   "id": "fde56204-a269-4db4-b99e-db293cb59e75",
   "metadata": {},
   "outputs": [],
   "source": []
  }
 ],
 "metadata": {
  "kernelspec": {
   "display_name": "Python 3",
   "language": "python",
   "name": "python3"
  },
  "language_info": {
   "codemirror_mode": {
    "name": "ipython",
    "version": 3
   },
   "file_extension": ".py",
   "mimetype": "text/x-python",
   "name": "python",
   "nbconvert_exporter": "python",
   "pygments_lexer": "ipython3",
   "version": "3.11.7"
  }
 },
 "nbformat": 4,
 "nbformat_minor": 5
}
